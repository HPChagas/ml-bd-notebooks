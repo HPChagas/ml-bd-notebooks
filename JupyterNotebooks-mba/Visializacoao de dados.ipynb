{
 "cells": [
  {
   "cell_type": "markdown",
   "metadata": {
    "colab_type": "text",
    "id": "x8VUohVKQh5l"
   },
   "source": [
    "# <font color=\"red\"> MBA em IA e Big Data</font>\n",
    "## <span style=\"color:red\">Linguagens e Ferramentas para Inteligência Artificial e Big Data (Python e SQL)</span>\n",
    "\n",
    "### <span style=\"color:darkred\">Python II, Visualização e Aprendizado de Máquina</span>\n",
    "\n",
    "## Exercícios com soluções\n",
    "\n",
    "*Moacir Antonelli Ponti*<br>\n",
    "*ICMC/USP São Carlos*"
   ]
  },
  {
   "cell_type": "markdown",
   "metadata": {
    "colab_type": "text",
    "id": "P1gGG6yeQh5m"
   },
   "source": [
    "#### <span style=\"color:red\">Recomenda-se fortemente que os exercícios sejam feitos sem consultar as respostas antecipadamente.</span>"
   ]
  },
  {
   "cell_type": "markdown",
   "metadata": {},
   "source": [
    "# Parte 1 - Python \n",
    "\n",
    "## Exercício 1)\n",
    "\n",
    "Crie uma classe `string_list` que permita instanciar objetos que manipule uma lista de strings. Assuma que cada string possui palavras separadas por um espaço em branco. Para esse exercício assuma que não há pontuações.\n",
    "\n",
    "A classe deve:\n",
    "* Permitir instanciar um objeto, inicializando uma lista vazia. \n",
    "* Possuir um método `add()` que adiciona uma nova string na lista existente\n",
    "* Possuir um método `sizes()` que retorne uma lista de inteiros contendo o tamanho de cada string.\n",
    "\n",
    "--- "
   ]
  },
  {
   "cell_type": "code",
   "execution_count": 1,
   "metadata": {},
   "outputs": [],
   "source": [
    "class string_list:\n",
    "    def __init__(self):\n",
    "        self.ls = []\n",
    "\n",
    "    def add(self,new_string):\n",
    "        self.ls.append(new_string)\n",
    "        \n",
    "    def sizes(self):\n",
    "        return [len(st) for st in self.ls]"
   ]
  },
  {
   "cell_type": "code",
   "execution_count": 2,
   "metadata": {},
   "outputs": [
    {
     "name": "stdout",
     "output_type": "stream",
     "text": [
      "<__main__.string_list object at 0x7fe930615370>\n"
     ]
    }
   ],
   "source": [
    "sl = string_list()\n",
    "print(sl)"
   ]
  },
  {
   "cell_type": "code",
   "execution_count": 3,
   "metadata": {},
   "outputs": [],
   "source": [
    "sl.add('Fluent Python')\n",
    "sl.add('The Art of Computer Programming')"
   ]
  },
  {
   "cell_type": "code",
   "execution_count": 4,
   "metadata": {},
   "outputs": [
    {
     "data": {
      "text/plain": [
       "[13, 31]"
      ]
     },
     "execution_count": 4,
     "metadata": {},
     "output_type": "execute_result"
    }
   ],
   "source": [
    "sl.sizes()"
   ]
  },
  {
   "cell_type": "markdown",
   "metadata": {},
   "source": [
    "---\n",
    "\n",
    "## Exercício 2)\n",
    "\n",
    "\n",
    "Modifique a classe `string_list` do exercício anterior, incluindo novas funcionalidades:\n",
    "\n",
    "* um método `__str__` que retorne a string formada pelas duas primeiras strings e depois informe quantas existem no total. Por exemplo, ao usar print num objeto contendo 4 strings: ['Introduction to Algorithms', 'The Art of Computer Programming', 'Machine Learning', 'Design Patterns'], a resposta deve ser:\n",
    "```\n",
    "List of Strings:\n",
    "Introduction to Algorithms\n",
    "The Art of Computer Programming\n",
    "...\n",
    "(Total: 4 strings)\n",
    "```\n",
    "* um método que calcule a distância de Hamming entre duas strings. O método recebe as posições das duas strings e retorna a distância. A distância de Hamming entre duas strings de mesmo tamanho é o número de posições nas quais os símbolos correspondentes são diferentes.\n",
    "    * para esse exercício compute a distância de Hamming nivelando pela string de menor tamanho. Exemplo: dist(`abcde`,`abc12345`) = 2, relativo aos elementos `de` na primeira que são diferentes de `12` na segunda, desconsiderando os elementos `345` na segunda string que excedem o tamanho da primeira\n",
    "\n",
    "* um método `word_count()` que retorne um dicionário cujas chaves são palavras e o valor representa a frequência daquela palavra em todas as strings. Não deve ser sensível a caixa, isso é: 'Art', 'art', 'ART' são consideradas a mesma palavra, por exemplo.\n"
   ]
  },
  {
   "cell_type": "code",
   "execution_count": 5,
   "metadata": {},
   "outputs": [
    {
     "data": {
      "text/plain": [
       "2"
      ]
     },
     "execution_count": 5,
     "metadata": {},
     "output_type": "execute_result"
    }
   ],
   "source": [
    "# testando comprehension para computar a distancia de Hamming\n",
    "s1 = 'abcd1'\n",
    "s2 = 'abd1'\n",
    "[1 for c1, c2 in zip(s1,s2) if c1==c2]\n",
    "len([1 for c1, c2 in zip(s1,s2) if c1==c2])"
   ]
  },
  {
   "cell_type": "code",
   "execution_count": 7,
   "metadata": {},
   "outputs": [],
   "source": [
    "class string_list:\n",
    "    def __init__(self):\n",
    "        self.ls = []\n",
    "\n",
    "    def add(self,new_string):\n",
    "        self.ls.append(new_string)\n",
    "        \n",
    "    def sizes(self):\n",
    "        return [len(st) for st in self.ls]\n",
    "    \n",
    "    def __str__(self):\n",
    "        printobj = 'List of Strings:\\n'\n",
    "        for st in self.ls[:2]:\n",
    "            printobj += st + '\\n'\n",
    "        printobj += '..\\n(Total: '+str(len(self.ls))+' strings)'\n",
    "        return printobj\n",
    "    \n",
    "    def hamming_distance(self, i, j):\n",
    "        return len([1 for c1, c2 in zip(self.ls[i], self.ls[j]) if c1!=c2])\n",
    "        \n",
    "    def word_count(self):\n",
    "        dc = {}\n",
    "        for st in self.ls:\n",
    "            for w in st.split():\n",
    "                if w not in dc:\n",
    "                    dc[w] = 1\n",
    "                else:\n",
    "                    dc[w] += 1\n",
    "        return dc"
   ]
  },
  {
   "cell_type": "code",
   "execution_count": 8,
   "metadata": {},
   "outputs": [],
   "source": [
    "sl = string_list()\n",
    "sl.add('Fluent Python')\n",
    "sl.add('The Art of Computer Programming')\n",
    "sl.add('Algorithms Introduction')\n",
    "sl.add('Programming Python')\n",
    "sl.add('Algorithms and Data Structures in Python')"
   ]
  },
  {
   "cell_type": "code",
   "execution_count": 9,
   "metadata": {},
   "outputs": [
    {
     "data": {
      "text/plain": [
       "[13, 31, 23, 18, 40]"
      ]
     },
     "execution_count": 9,
     "metadata": {},
     "output_type": "execute_result"
    }
   ],
   "source": [
    "sl.sizes()"
   ]
  },
  {
   "cell_type": "code",
   "execution_count": 10,
   "metadata": {},
   "outputs": [
    {
     "name": "stdout",
     "output_type": "stream",
     "text": [
      "List of Strings:\n",
      "Fluent Python\n",
      "The Art of Computer Programming\n",
      "..\n",
      "(Total: 5 strings)\n"
     ]
    }
   ],
   "source": [
    "print(sl)"
   ]
  },
  {
   "cell_type": "code",
   "execution_count": 11,
   "metadata": {},
   "outputs": [
    {
     "name": "stdout",
     "output_type": "stream",
     "text": [
      "List of Strings:\n",
      "Fluent Python\n",
      "..\n",
      "(Total: 1 strings)\n"
     ]
    }
   ],
   "source": [
    "s2 = string_list()\n",
    "s2.add('Fluent Python')\n",
    "print(s2)"
   ]
  },
  {
   "cell_type": "code",
   "execution_count": 12,
   "metadata": {},
   "outputs": [
    {
     "name": "stdout",
     "output_type": "stream",
     "text": [
      "11\n",
      "28\n"
     ]
    }
   ],
   "source": [
    "d = sl.hamming_distance(2,4)\n",
    "print(d)\n",
    "d = sl.hamming_distance(1,4)\n",
    "print(d)"
   ]
  },
  {
   "cell_type": "code",
   "execution_count": 13,
   "metadata": {},
   "outputs": [
    {
     "name": "stdout",
     "output_type": "stream",
     "text": [
      "{'Fluent': 1, 'Python': 3, 'The': 1, 'Art': 1, 'of': 1, 'Computer': 1, 'Programming': 2, 'Algorithms': 2, 'Introduction': 1, 'and': 1, 'Data': 1, 'Structures': 1, 'in': 1}\n"
     ]
    }
   ],
   "source": [
    "wc = sl.word_count()\n",
    "print(wc)"
   ]
  },
  {
   "cell_type": "markdown",
   "metadata": {
    "colab_type": "text",
    "id": "WHG7tm3QQh5m"
   },
   "source": [
    "---\n",
    "# Parte 2 - Visualização\n",
    "\n",
    "## Exercício 3)\n",
    "\n",
    "Usando a base de dados auto prices, exiba um gráfico de pontos visualizando pontos formados por city-mpg e highway-mpg. Exiba os pontos com marcador 'd' e cor 'c', nomeeie os eixos adequadamente, insira um título, e exiba a figura com tamanho 4 x 4.\n"
   ]
  },
  {
   "cell_type": "code",
   "execution_count": 2,
   "metadata": {},
   "outputs": [],
   "source": [
    "import pandas as pd\n",
    "import numpy as np\n",
    "import matplotlib.pyplot as plt  \n",
    "\n",
    "auto = pd.read_csv('./data/auto.csv')\n",
    "\n",
    "def read_data(fileName = \"/home/icarus/MBA_AI_e_ML/01CursoLinguagens e Ferramentas_Frameworks/Semana3-Python_e_Frameworks/dados_semana3/auto.csv\"):\n",
    "    df = pd.read_csv(fileName)\n",
    "    \n",
    "    missing_atts = [colName for (colName, colData) in auto.iteritems() if np.any(colData=='?')]\n",
    "    missing_atts.remove('num-of-doors')                                \n",
    "    \n",
    "    for column in missing_atts:\n",
    "        # substitui ? por nan\n",
    "        df.loc[df[column] == '?', column] = np.nan\n",
    "\n",
    "    doors = {'two':2, 'four':4, '?':np.nan}\n",
    "    df['num-of-doors'] = df['num-of-doors'].apply(lambda x: doors[x])\n",
    "    \n",
    "    missing_atts.append('num-of-doors')\n",
    "    \n",
    "    # remove linhas com nans\n",
    "    df.dropna(axis = 0, inplace = True)\n",
    "\n",
    "    # converte as colunas para valores numéricos\n",
    "    # como elas possuíam '?' são carregadas automaticamente como strings\n",
    "    for column in missing_atts:\n",
    "        df[column] = pd.to_numeric(df[column])\n",
    "        \n",
    "    return df\n",
    "\n",
    "auto = read_data()"
   ]
  },
  {
   "cell_type": "code",
   "execution_count": 3,
   "metadata": {},
   "outputs": [
    {
     "data": {
      "text/plain": [
       "Text(0, 0.5, 'Highway MPG')"
      ]
     },
     "execution_count": 3,
     "metadata": {},
     "output_type": "execute_result"
    },
    {
     "data": {
      "image/png": "[encoded data removed]",
      "text/plain": [
       "<Figure size 288x288 with 1 Axes>"
      ]
     },
     "metadata": {
      "needs_background": "light"
     },
     "output_type": "display_data"
    }
   ],
   "source": [
    "fig = plt.figure(figsize=(4,4))\n",
    "ax = fig.gca()\n",
    "plt.plot(auto['city-mpg'], auto['highway-mpg'], 'dc')\n",
    "ax.set_title('City x Highway MPG')\n",
    "ax.set_xlabel('City MPG')\n",
    "ax.set_ylabel('Highway MPG')"
   ]
  },
  {
   "cell_type": "markdown",
   "metadata": {},
   "source": [
    "## Exercício 4)\n",
    "\n",
    "Considere os dois arrays l1 e l2 abaixo. Monte um gráfico de linha em uma figura de tamanho 8x5 que:\n",
    "1. exiba essas listas com relação aos elementos da lista x, i.e. x deve estar no eixo horizontal, l1 e l2 no vertical. \n",
    "2. configure as linhas com diferentes aspectos de cor, tipo de linha, espessura da linha, sem usar marcador.\n",
    "3. adicione uma legenda, l1 deve ter rótulo 'senoide' e a l2 deve ter rótulo 'logaritmo', posicionando-a sem sobrepor com os gráficos\n",
    "4. ajuste os eixos de forma que o eixo y esteja entre -7 e 2\n",
    "5. insira o rótulo 'time' no eixo x"
   ]
  },
  {
   "cell_type": "code",
   "execution_count": 4,
   "metadata": {
    "colab": {},
    "colab_type": "code",
    "id": "pTVOXvzVQh5m",
    "outputId": "6cd1207a-a389-4e1b-ef41-7d404b39c46a"
   },
   "outputs": [],
   "source": [
    "import numpy as np\n",
    "import matplotlib.pyplot as plt\n",
    "\n",
    "x = np.linspace(0.0005,2.1,60)\n",
    "l1 = np.sin(2*x*np.pi)*x\n",
    "l2 = np.log(2*x)"
   ]
  },
  {
   "cell_type": "code",
   "execution_count": 5,
   "metadata": {},
   "outputs": [
    {
     "data": {
      "text/plain": [
       "(-7.0, 2.0)"
      ]
     },
     "execution_count": 5,
     "metadata": {},
     "output_type": "execute_result"
    },
    {
     "data": {
      "image/png": "[encoded data removed]",
      "text/plain": [
       "<Figure size 576x360 with 1 Axes>"
      ]
     },
     "metadata": {
      "needs_background": "light"
     },
     "output_type": "display_data"
    }
   ],
   "source": [
    "fig = plt.figure(figsize=(8,5))\n",
    "ax = fig.gca()\n",
    "plt.plot(x,l1,'c:',linewidth=2)\n",
    "plt.plot(x,l2,'m--',linewidth=1.25)\n",
    "ax.set_xlabel('time')\n",
    "plt.legend(['senoise', 'log'], loc='lower right') # upper/lower right/left\n",
    "\n",
    "# limites do gráfico\n",
    "ax.set_ylim([-7, 2])"
   ]
  },
  {
   "cell_type": "markdown",
   "metadata": {
    "colab_type": "text",
    "id": "M72PbdAnQh5u"
   },
   "source": [
    "## Exercício 5)\n",
    "\n",
    "Considerando a base de dados car auto\n",
    "1. Exiba um histograma da variável \"horsepower\", apenas para os elementos que sejam menores ou iguais a 120, utilizando 12 bins.\n",
    "2. Mostre um box plot da mesma variável, que terá um ponto máximo, fora dos bigodes. Encontre qual é esse ponto e imprima na tela uma seta apontando para o ponto no boxplot contendo o texto relativo ao `make` e `aspiration` dessa observação, conforme figura abaixo.\n"
   ]
  },
  {
   "cell_type": "code",
   "execution_count": 9,
   "metadata": {},
   "outputs": [
    {
     "data": {
      "text/plain": [
       "Text(0.5, 0, 'Horsepower')"
      ]
     },
     "execution_count": 9,
     "metadata": {},
     "output_type": "execute_result"
    },
    {
     "data": {
      "image/png": "[encoded data removed]",
      "text/plain": [
       "<Figure size 432x288 with 1 Axes>"
      ]
     },
     "metadata": {
      "needs_background": "light"
     },
     "output_type": "display_data"
    }
   ],
   "source": [
    "plt.hist(auto.loc[auto['horsepower']<=120, ['horsepower']], bins=12, facecolor='r')\n",
    "plt.xlabel('Horsepower')    # rótulo do eixo horizontal"
   ]
  },
  {
   "cell_type": "code",
   "execution_count": 10,
   "metadata": {},
   "outputs": [
    {
     "data": {
      "text/html": [
       "<div>\n",
       "<style scoped>\n",
       "    .dataframe tbody tr th:only-of-type {\n",
       "        vertical-align: middle;\n",
       "    }\n",
       "\n",
       "    .dataframe tbody tr th {\n",
       "        vertical-align: top;\n",
       "    }\n",
       "\n",
       "    .dataframe thead th {\n",
       "        text-align: right;\n",
       "    }\n",
       "</style>\n",
       "<table border=\"1\" class=\"dataframe\">\n",
       "  <thead>\n",
       "    <tr style=\"text-align: right;\">\n",
       "      <th></th>\n",
       "      <th>symboling</th>\n",
       "      <th>normalized-losses</th>\n",
       "      <th>make</th>\n",
       "      <th>fuel-type</th>\n",
       "      <th>aspiration</th>\n",
       "      <th>num-of-doors</th>\n",
       "      <th>body-style</th>\n",
       "      <th>drive-wheels</th>\n",
       "      <th>engine-location</th>\n",
       "      <th>wheel-base</th>\n",
       "      <th>...</th>\n",
       "      <th>engine-size</th>\n",
       "      <th>fuel-system</th>\n",
       "      <th>bore</th>\n",
       "      <th>stroke</th>\n",
       "      <th>compression-ratio</th>\n",
       "      <th>horsepower</th>\n",
       "      <th>peak-rpm</th>\n",
       "      <th>city-mpg</th>\n",
       "      <th>highway-mpg</th>\n",
       "      <th>price</th>\n",
       "    </tr>\n",
       "  </thead>\n",
       "  <tbody>\n",
       "    <tr>\n",
       "      <th>105</th>\n",
       "      <td>3</td>\n",
       "      <td>194</td>\n",
       "      <td>nissan</td>\n",
       "      <td>gas</td>\n",
       "      <td>turbo</td>\n",
       "      <td>2.0</td>\n",
       "      <td>hatchback</td>\n",
       "      <td>rwd</td>\n",
       "      <td>front</td>\n",
       "      <td>91.3</td>\n",
       "      <td>...</td>\n",
       "      <td>181</td>\n",
       "      <td>mpfi</td>\n",
       "      <td>3.43</td>\n",
       "      <td>3.27</td>\n",
       "      <td>7.8</td>\n",
       "      <td>200</td>\n",
       "      <td>5200</td>\n",
       "      <td>17</td>\n",
       "      <td>23</td>\n",
       "      <td>19699</td>\n",
       "    </tr>\n",
       "  </tbody>\n",
       "</table>\n",
       "<p>1 rows × 26 columns</p>\n",
       "</div>"
      ],
      "text/plain": [
       "     symboling  normalized-losses    make fuel-type aspiration  num-of-doors  \\\n",
       "105          3                194  nissan       gas      turbo           2.0   \n",
       "\n",
       "    body-style drive-wheels engine-location  wheel-base  ...  engine-size  \\\n",
       "105  hatchback          rwd           front        91.3  ...          181   \n",
       "\n",
       "     fuel-system  bore  stroke compression-ratio horsepower  peak-rpm  \\\n",
       "105         mpfi  3.43    3.27               7.8        200      5200   \n",
       "\n",
       "    city-mpg  highway-mpg  price  \n",
       "105       17           23  19699  \n",
       "\n",
       "[1 rows x 26 columns]"
      ]
     },
     "execution_count": 10,
     "metadata": {},
     "output_type": "execute_result"
    }
   ],
   "source": [
    "x = auto.loc[auto['horsepower']>190]\n",
    "x"
   ]
  },
  {
   "cell_type": "code",
   "execution_count": 11,
   "metadata": {
    "scrolled": true
   },
   "outputs": [
    {
     "data": {
      "text/plain": [
       "Text(1.1, 190, 'nissan turbo')"
      ]
     },
     "execution_count": 11,
     "metadata": {},
     "output_type": "execute_result"
    },
    {
     "data": {
      "image/png": "[encoded data removed]",
      "text/plain": [
       "<Figure size 504x360 with 1 Axes>"
      ]
     },
     "metadata": {
      "needs_background": "light"
     },
     "output_type": "display_data"
    }
   ],
   "source": [
    "make_engine = x['make'].item() + ' '+ x['aspiration'].item()\n",
    "#make_engine= '<make> <aspiration>'\n",
    "fig = plt.figure(figsize=(7,5))\n",
    "ax = fig.gca()  \n",
    "auto[['horsepower']].boxplot(ax = ax)\n",
    "plt.annotate(make_engine, fontsize=12, \n",
    "             xy=(1.01,200), xytext=(1.1, 190), # gera uma anotação\n",
    "             arrowprops=dict(facecolor='green'))"
   ]
  },
  {
   "cell_type": "markdown",
   "metadata": {
    "colab_type": "text",
    "id": "8ZD-mCMPQh5w"
   },
   "source": [
    "---\n",
    "# Parte 3 - Aprendizado de Máquina\n",
    "\n",
    "## Exercício 6)\n",
    "\n",
    "Carregue a base de dados Iris por meio do `load_iris` no módulo `sklearn`\n",
    "* Imprima na tela o número de instâncias e atributos (X)\n",
    "* Imprima na tela o número de elementos distintos na sua variável alvo (y)\n",
    "* Separe os dados em 75% para treinamento e 25% para testes\n",
    "* Treine um classificador SVM nesses dados e:\n",
    "    1. realize a predição nos dados de teste \n",
    "    2. exiba na tela os rótulos preditos para os quais o classificador errou\n",
    "    3. exiba na tela o score relativo aos dados de treinamento e teste"
   ]
  },
  {
   "cell_type": "code",
   "execution_count": 12,
   "metadata": {},
   "outputs": [
    {
     "name": "stdout",
     "output_type": "stream",
     "text": [
      "Tamanho dos dados (150, 4)\n",
      "Classes [0 1 2]\n"
     ]
    }
   ],
   "source": [
    "from sklearn.datasets import load_iris\n",
    "import numpy as np\n",
    "from sklearn.model_selection import train_test_split\n",
    "from sklearn import svm \n",
    "\n",
    "X, y = load_iris(return_X_y=True) # data, target\n",
    "\n",
    "print('Tamanho dos dados', X.shape)\n",
    "print('Classes', np.unique(y))"
   ]
  },
  {
   "cell_type": "code",
   "execution_count": 13,
   "metadata": {},
   "outputs": [],
   "source": [
    "X_train, X_test, y_train, y_test = train_test_split(X, y,\n",
    "                                                    test_size=0.25,\n",
    "                                                    random_state=1)"
   ]
  },
  {
   "cell_type": "code",
   "execution_count": 14,
   "metadata": {},
   "outputs": [
    {
     "name": "stdout",
     "output_type": "stream",
     "text": [
      "Predicted wrong: [2]\n",
      "Score trein.: 0.9732142857142857\n",
      "Score test  : 0.9736842105263158\n"
     ]
    }
   ],
   "source": [
    "# instancia o modelo SVC\n",
    "modelo_svm = svm.SVC()\n",
    "\n",
    "modelo_svm.fit(X_train, y_train)\n",
    "pred_test = modelo_svm.predict(X_test)\n",
    "\n",
    "print('Predicted wrong:', pred_test[pred_test!=y_test])\n",
    "\n",
    "score_train = modelo_svm.score(X_train,y_train)\n",
    "score_test = modelo_svm.score(X_test,y_test)\n",
    "\n",
    "print('Score trein.:', score_train)\n",
    "print('Score test  :', score_test)"
   ]
  },
  {
   "cell_type": "markdown",
   "metadata": {},
   "source": [
    "\n"
   ]
  },
  {
   "cell_type": "markdown",
   "metadata": {},
   "source": [
    "\n"
   ]
  },
  {
   "cell_type": "code",
   "execution_count": null,
   "metadata": {},
   "outputs": [],
   "source": []
  }
 ],
 "metadata": {
  "colab": {
   "name": "Python I  exercicios solucoes.ipynb",
   "provenance": []
  },
  "kernelspec": {
   "display_name": "Python 3",
   "language": "python",
   "name": "python3"
  },
  "language_info": {
   "codemirror_mode": {
    "name": "ipython",
    "version": 3
   },
   "file_extension": ".py",
   "mimetype": "text/x-python",
   "name": "python",
   "nbconvert_exporter": "python",
   "pygments_lexer": "ipython3",
   "version": "3.8.0"
  },
  "toc": {
   "base_numbering": 1,
   "nav_menu": {},
   "number_sections": true,
   "sideBar": true,
   "skip_h1_title": false,
   "title_cell": "Table of Contents",
   "title_sidebar": "Contents",
   "toc_cell": false,
   "toc_position": {},
   "toc_section_display": true,
   "toc_window_display": false
  }
 },
 "nbformat": 4,
 "nbformat_minor": 1
}
