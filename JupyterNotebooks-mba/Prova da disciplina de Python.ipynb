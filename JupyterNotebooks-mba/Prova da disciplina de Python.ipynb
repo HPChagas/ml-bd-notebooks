{
 "cells": [
  {
   "cell_type": "markdown",
   "metadata": {},
   "source": [
    "# <font color=\"red\"> MBA em IA e Big Data</font>\n",
    "## <span style=\"color:red\">Linguagens e Ferramentas para Inteligência Artificial e Big Data (Python e SQL)</span>\n",
    "\n",
    "### Avaliação final - Python\n",
    "\n",
    "*Moacir Antonelli Ponti* <br>\n",
    "*ICMC/USP São Carlos*"
   ]
  },
  {
   "cell_type": "markdown",
   "metadata": {},
   "source": [
    "<font color='red'> As respostas devem ser fornecidas no Moodle. O notebook é apenas para a implementação dos códigos que fornecerão as respostas</font>\n",
    "\n",
    "\n",
    "<font color='red'> _This notebook should be used to implement the source-code in order to obtain the results. With those results, answer the questions in the Moodle system._ </font>\n"
   ]
  },
  {
   "cell_type": "markdown",
   "metadata": {},
   "source": [
    "---\n",
    "\n",
    "## Questão\n",
    "\n",
    "Investige problemas no código abaixo, que foi desenvolvido para receber sucessivas opções do usuário pelo teclado as quais acionam funções e que, e quando digitado 0, encerra. Qual a alternativa mais adequada para melhorar o código?\n",
    "```\n",
    "1. op = 0\n",
    "2. while op != 100:\n",
    "3.    op = int(input())\n",
    "4.    if op == 1:\n",
    "5.       my_function1()\n",
    "6.    elif op == 2:\n",
    "7.       my_function2()\n",
    "8.    elif op == 0:\n",
    "9.       break\n",
    "```\n",
    "a) Possui um erro de sintaxe e não possui erro de lógica. Poderia ser modificado de forma que a variável op não precise ser declarada fora do while e sim apenas dentro do while, antes da linha 3<br>\n",
    "b) Não possui um erro de sintaxe, mas há um problema de lógica nas linhas 8 e 9, que faz com que o programa não tenha o comportamento esperado, e essas portanto devem ser removidas.<br>\n",
    "c) Possui um erro de sintaxe (será acusado pelo interpretador Python) acusado na linha em que ocorre o 3.<br>\n",
    "d) Não possui erro de sintaxe. No entanto, a inicialização da variável op e a condição do while na linha 2 poderiam ser modificadas de forma que as linhas 8 e 9 sejam removidas."
   ]
  },
  {
   "cell_type": "code",
   "execution_count": null,
   "metadata": {},
   "outputs": [],
   "source": [
    "#1) a condição de finalização do while poderia ser o próprio op !== 0, com op sendo inicializado com qqnumero <>0\n",
    "#2) não existe nenhum tratamento para casos em que op <> de 1;2;0. Isso torna o código incosistente.\n",
    "#3) erro de lógica e escopo: caso o usuário digite 100 o programa também é interrompido (continuado em outro escopo) \n",
    "#erro de lógica; \n",
    "#alternativa D"
   ]
  },
  {
   "cell_type": "markdown",
   "metadata": {},
   "source": [
    "---\n",
    "\n",
    "## Questão\n",
    "\n",
    "Considere a lista abaixo:\n",
    "\n",
    "```\n",
    "lv = [('BRA', 'DFD-2992', 12, 2021, 999.0),\n",
    "      ('ARG', '1112992', 1, 2022, 899.0),\n",
    "      ('EUA', 'AB3DA000', 11, 2021, 1023.0),\n",
    "      ('BRA', 'GCG-1112', 9, 2021, 900.0),\n",
    "      ('ESP', 'DFD-2992', 11, 2021, 899.0),\n",
    "      ('URU', 'ECZ118', 10, 2021, 1099.9),\n",
    "      ('BRA', 'CAE-1533', 9, 2021, 999.5),\n",
    "      ('BRA', 'ACG-0152', 8, 2021, 799.5),\n",
    "      ('URU', 'AEC423', 3, 2023, 699.0),\n",
    "      ('PAR', 'DFD-2992', 2, 2025, 1099.0),\n",
    "      ('ARL', 'X123111Z', 10, 2021, 954.0),\n",
    "      ('URU', 'BAC203', 2, 2025, 1011.0),\n",
    "      ('ARG', '3012300', 9, 2021, 1259.0),\n",
    "      ('URU', 'AEC410', 10, 2021, 699.0),\n",
    "      ('ARG', '3111023', 11, 2021, 1190.0),\n",
    "      ('VEN', 'IAD130', 8, 2022, 1000.6),\n",
    "      ('URU', 'ABC123', 12, 2024, 1001.5),\n",
    "      ('ARG', '3112323', 10, 2021, 1250.0),\n",
    "      ('BRA', 'AAB-2992', 8, 2021, 1050.9),\n",
    "      ('BRA', 'EFE-2992', 8, 2022, 1170.1),\n",
    "      ('VEN', 'GAC292', 4, 2023, 1000.6),\n",
    "      ('PER', '2992DDE', 9, 2021, 989.9)] \n",
    "```\n",
    "\n",
    "Crie uma lista contendo apenas os passaportes relativos a passageiros dos países: 'BRA', 'ARG' ou 'URU' que possuem i) passaporte com vencimento em novembro de 2021 ou anterior e ii) cujo valor da passagem é maior do que a média do valor pago por todos os passageiros. \n",
    "\n",
    "OBS: se conseguir, crie a lista usando comprehension para praticar esse conceito.\n",
    "\n",
    "Quantos passaportes foram incluídos na lista criada?\n"
   ]
  },
  {
   "cell_type": "code",
   "execution_count": 2,
   "metadata": {},
   "outputs": [],
   "source": [
    "lv = [('BRA', 'DFD-2992', 12, 2021, 999.0),\n",
    "      ('ARG', '1112992', 1, 2022, 899.0),\n",
    "      ('EUA', 'AB3DA000', 11, 2021, 1023.0),\n",
    "      ('BRA', 'GCG-1112', 9, 2021, 900.0),\n",
    "      ('ESP', 'DFD-2992', 11, 2021, 899.0),\n",
    "      ('URU', 'ECZ118', 10, 2021, 1099.9),\n",
    "      ('BRA', 'CAE-1533', 9, 2021, 999.5),\n",
    "      ('BRA', 'ACG-0152', 8, 2021, 799.5),\n",
    "      ('URU', 'AEC423', 3, 2023, 699.0),\n",
    "      ('PAR', 'DFD-2992', 2, 2025, 1099.0),\n",
    "      ('ARL', 'X123111Z', 10, 2021, 954.0),\n",
    "      ('URU', 'BAC203', 2, 2025, 1011.0),\n",
    "      ('ARG', '3012300', 9, 2021, 1259.0),\n",
    "      ('URU', 'AEC410', 10, 2021, 699.0),\n",
    "      ('ARG', '3111023', 11, 2021, 1190.0),\n",
    "      ('VEN', 'IAD130', 8, 2022, 1000.6),\n",
    "      ('URU', 'ABC123', 12, 2024, 1001.5),\n",
    "      ('ARG', '3112323', 10, 2021, 1250.0),\n",
    "      ('BRA', 'AAB-2992', 8, 2021, 1050.9),\n",
    "      ('BRA', 'EFE-2992', 8, 2022, 1170.1),\n",
    "      ('VEN', 'GAC292', 4, 2023, 1000.6),\n",
    "      ('PER', '2992DDE', 9, 2021, 989.9)] "
   ]
  },
  {
   "cell_type": "code",
   "execution_count": 3,
   "metadata": {},
   "outputs": [
    {
     "name": "stdout",
     "output_type": "stream",
     "text": [
      "999.7\n",
      "[('URU', 'ECZ118', 10, 2021, 1099.9), ('ARG', '3012300', 9, 2021, 1259.0), ('ARG', '3111023', 11, 2021, 1190.0), ('ARG', '3112323', 10, 2021, 1250.0), ('BRA', 'AAB-2992', 8, 2021, 1050.9)] 5\n"
     ]
    }
   ],
   "source": [
    "####Solução (i)\n",
    "anoVenc = 2021\n",
    "mesVenc = 11\n",
    "lsPaises = ['BRA','ARG','URU']\n",
    "\n",
    "media = 0\n",
    "for tupla in lv:\n",
    "    media += float(tupla[4]) \n",
    "media = round(media / len(lv),2)\n",
    "print(media)\n",
    "\n",
    "lista = [tupla for tupla in lv if ((tupla[0] in lsPaises) and (tupla[3] <= anoVenc) and (tupla[2] <= mesVenc) and tupla[4] > media)]\n",
    "print (lista,len(lista))\n",
    "\n",
    "#resposta = D"
   ]
  },
  {
   "cell_type": "markdown",
   "metadata": {},
   "source": [
    "---\n",
    "\n",
    "## Questão\n",
    "\n",
    "Desejamos armazenar informações de produtos contendo os seguintes campos de dados:\n",
    "* id: string, exemplo: 'SK1012'\n",
    "* descricao: string, exemplo: 'Caneta esferográfica azul'\n",
    "* preço: float, exemplo: 1.59\n",
    "* quantidade em estoque: int, exemplo: 10000\n",
    "* outras informações: strings contendo dados adicionais, exemplo: '16 cm', 'retrátil', 'ponta fina', em quantidade não especificada podendo ser zero ou mais informações.\n",
    "\n",
    "Será preciso armazenar diversos produtos e recuperá-los por meio do atributo *id*. Após armazenados, os dados referentes a *id*, *descricao* e *outras informacoes* não serão alterados, mas os dados referentes à *quantidade em estoque* e *preco* poderão ser modificados.\n",
    "\n",
    "#Rever aula de dicionários\n",
    "\n",
    "Considerando as estruturas em Python: lista, tupla e dicionário, qual seria a escolha ideal para armazenar e manipular os dados conforme descritos?\n",
    "\n",
    "a) Dicionário cuja chave é id, e cujo valor é uma tupla contendo descrição e outras informações para que sejam imutáveis, e temos uma lista à parte para armazenar preço e quantidade na mesma ordem dos ids do dicionário permitindo recuperá-los pelo índice numérico<br> \n",
    "listaProdutos:{ 'id': (descricao, outras_info),[preço, quantidade]} -Não dá para fazer isso dá? não!\n",
    "\n",
    "b) Dicionário cuja chave é id, e cujo valor é uma lista contendo os campos preço e quantidade, e mais uma tupla, que terá a descrição na primeira posição e outras informações nas posições seguintes.<br>\n",
    "listaProdutos:{ 'id': [preço, quantidade, (descricao, outrasinfo)]}\n",
    "\n",
    "c) Lista contendo tuplas de produtos, cujo primeiro elemento da tupla é id, seguido por descrição e outras informações, e um elemento da tupla é uma outra lista contendo quantidade e preço para que possam ser alterados se necessário<br>\n",
    "listaProdutos: [(não]\n",
    "\n",
    "d) Lista contendo dicionários de produtos, cada dicionário possui como chave um id, seguido por uma tupla contendo descrição e outras informações, e uma lista contendo quantidade e preço para que possam ser alterados se necessário\n",
    "listaProdutos:[{id:(descricao,outras),[]}]}\n",
    "\n",
    "\n",
    "##Alternativa B\n",
    "lsProdutos = {'id_produto':[,,(,)] }"
   ]
  },
  {
   "cell_type": "markdown",
   "metadata": {},
   "source": [
    "---\n",
    "\n",
    "## Questão \n",
    "\n",
    "Sobre Classes e Objetos em Python, quais das afirmações abaixo está(ão) correta(s)?\n",
    "\n",
    "I - Uma classe especifica um protótipo a partir do qual é possível criar múltiplos objetos, chamados de instâncias.<br> (V)\n",
    "II - Classes implementam o estado da memória e o comportamento de um determinado objeto ao ser criado, contendo atributos (definem o estado) e métodos normais e especiais (definem o comportamento).<br> (V)\n",
    "III - Os métodos especiais definem comportamento com relação a outros componentes da linguagem Python como a função print() e a criação de um objeto na memória.<br>\n",
    "IV - Métodos especiais são protegidos e acessíveis somente dentro da classe e não podem ser chamados diretamente a partir do objeto<br> (F:em Python conseguimos sim chamar diretamente um método protegido ) \n",
    "V - Ao criarmos uma variável de determinada classe, a classe implementada é armazenada na memória e assim podemos acessar seus métodos, tornando assim o código reutilizável.<br> <F: uma instância da classe é implementada na memória>  \n",
    "\n",
    "a) I, II, V<br>\n",
    "b) I, II, III<br>\n",
    "\n",
    "c) II, III, IV<br>\n",
    "d) I, III, IV, V\n",
    "    \n",
    "#alternativa B"
   ]
  },
  {
   "cell_type": "code",
   "execution_count": 5,
   "metadata": {},
   "outputs": [
    {
     "name": "stdout",
     "output_type": "stream",
     "text": [
      "<class '__main__.class1'>\n",
      "0 oi\n"
     ]
    }
   ],
   "source": [
    "#mostra que q sentença que em python, embora a convensão seja um método __(private)__ ou _(protected)_ o compilador não impede o acesso direto. \n",
    "class class1:\n",
    "    attr = 0\n",
    "    \n",
    "    def __printable__(self, text:str):\n",
    "        print(self.attr,text)\n",
    "        \n",
    "\n",
    "var1 = class1()\n",
    "print(type(var1))\n",
    "\n",
    "var1.__printable__('oi')\n"
   ]
  },
  {
   "cell_type": "markdown",
   "metadata": {},
   "source": [
    "--- \n",
    "\n",
    "## Questão \n",
    "\n",
    "Abra a base de dados `sales1000.csv` e carregue-a num dataframe `df`. Desejamos criar um gráfico que mostre colunas cujas alturas representam as frequências (contagem das ocorrências) dos diferentes valores na variável/coluna Order Priority. Esse gráfico também exibe no eixo horizontal (x) rótulos contendo os valores a que cada coluna se refere, isso é, H, M, C, L. Qual dos comandos abaixos cria esse gráfico corretamente?\n",
    "\n",
    "a) plt.bar(df['Order Priority'].value_counts())<br>\n",
    "b) plt.bar(np.array(df['Order Priority'].value_counts()), df['Order Priority'].value_counts())<br>\n",
    "c) plt.hist(df['Order Priority'], density=1, orientation='horizontal')<br>\n",
    "d) plt.bar(df['Order Priority'].value_counts().index, df['Order Priority'].value_counts().to_numpy())<br>"
   ]
  },
  {
   "cell_type": "code",
   "execution_count": 6,
   "metadata": {},
   "outputs": [
    {
     "name": "stdout",
     "output_type": "stream",
     "text": [
      "<class 'pandas.core.frame.DataFrame'>\n",
      "RangeIndex: 1000 entries, 0 to 999\n",
      "Data columns (total 14 columns):\n",
      " #   Column          Non-Null Count  Dtype  \n",
      "---  ------          --------------  -----  \n",
      " 0   Region          1000 non-null   object \n",
      " 1   Country         1000 non-null   object \n",
      " 2   Item Type       1000 non-null   object \n",
      " 3   Sales Channel   1000 non-null   object \n",
      " 4   Order Priority  1000 non-null   object \n",
      " 5   Order Date      1000 non-null   object \n",
      " 6   Order ID        1000 non-null   int64  \n",
      " 7   Ship Date       1000 non-null   object \n",
      " 8   Units Sold      1000 non-null   int64  \n",
      " 9   Unit Price      1000 non-null   float64\n",
      " 10  Unit Cost       1000 non-null   float64\n",
      " 11  Total Revenue   1000 non-null   float64\n",
      " 12  Total Cost      1000 non-null   float64\n",
      " 13  Total Profit    1000 non-null   float64\n",
      "dtypes: float64(5), int64(2), object(7)\n",
      "memory usage: 109.5+ KB\n"
     ]
    }
   ],
   "source": [
    "import pandas as pd\n",
    "sales_df = pd.read_csv('./data/sales1000.csv')\n",
    "sales_df.info()"
   ]
  },
  {
   "cell_type": "code",
   "execution_count": 48,
   "metadata": {},
   "outputs": [
    {
     "data": {
      "text/html": [
       "<div>\n",
       "<style scoped>\n",
       "    .dataframe tbody tr th:only-of-type {\n",
       "        vertical-align: middle;\n",
       "    }\n",
       "\n",
       "    .dataframe tbody tr th {\n",
       "        vertical-align: top;\n",
       "    }\n",
       "\n",
       "    .dataframe thead th {\n",
       "        text-align: right;\n",
       "    }\n",
       "</style>\n",
       "<table border=\"1\" class=\"dataframe\">\n",
       "  <thead>\n",
       "    <tr style=\"text-align: right;\">\n",
       "      <th></th>\n",
       "      <th>Region</th>\n",
       "      <th>Country</th>\n",
       "      <th>Item Type</th>\n",
       "      <th>Sales Channel</th>\n",
       "      <th>Order Priority</th>\n",
       "      <th>Order Date</th>\n",
       "      <th>Order ID</th>\n",
       "      <th>Ship Date</th>\n",
       "      <th>Units Sold</th>\n",
       "      <th>Unit Price</th>\n",
       "      <th>Unit Cost</th>\n",
       "      <th>Total Revenue</th>\n",
       "      <th>Total Cost</th>\n",
       "      <th>Total Profit</th>\n",
       "    </tr>\n",
       "  </thead>\n",
       "  <tbody>\n",
       "    <tr>\n",
       "      <th>552</th>\n",
       "      <td>Europe</td>\n",
       "      <td>Estonia</td>\n",
       "      <td>Beverages</td>\n",
       "      <td>Online</td>\n",
       "      <td>L</td>\n",
       "      <td>10/28/2011</td>\n",
       "      <td>373048341</td>\n",
       "      <td>12/12/2011</td>\n",
       "      <td>2149</td>\n",
       "      <td>47.45</td>\n",
       "      <td>31.79</td>\n",
       "      <td>101970.05</td>\n",
       "      <td>68316.71</td>\n",
       "      <td>33653.34</td>\n",
       "    </tr>\n",
       "    <tr>\n",
       "      <th>349</th>\n",
       "      <td>Australia and Oceania</td>\n",
       "      <td>New Zealand</td>\n",
       "      <td>Household</td>\n",
       "      <td>Offline</td>\n",
       "      <td>L</td>\n",
       "      <td>3/8/2017</td>\n",
       "      <td>398511302</td>\n",
       "      <td>4/20/2017</td>\n",
       "      <td>7205</td>\n",
       "      <td>668.27</td>\n",
       "      <td>502.54</td>\n",
       "      <td>4814885.35</td>\n",
       "      <td>3620800.70</td>\n",
       "      <td>1194084.65</td>\n",
       "    </tr>\n",
       "    <tr>\n",
       "      <th>12</th>\n",
       "      <td>Europe</td>\n",
       "      <td>Greece</td>\n",
       "      <td>Household</td>\n",
       "      <td>Online</td>\n",
       "      <td>C</td>\n",
       "      <td>11/17/2016</td>\n",
       "      <td>702186715</td>\n",
       "      <td>12/22/2016</td>\n",
       "      <td>1508</td>\n",
       "      <td>668.27</td>\n",
       "      <td>502.54</td>\n",
       "      <td>1007751.16</td>\n",
       "      <td>757830.32</td>\n",
       "      <td>249920.84</td>\n",
       "    </tr>\n",
       "    <tr>\n",
       "      <th>642</th>\n",
       "      <td>Australia and Oceania</td>\n",
       "      <td>Solomon Islands</td>\n",
       "      <td>Clothes</td>\n",
       "      <td>Offline</td>\n",
       "      <td>M</td>\n",
       "      <td>8/9/2014</td>\n",
       "      <td>647278249</td>\n",
       "      <td>9/16/2014</td>\n",
       "      <td>2873</td>\n",
       "      <td>109.28</td>\n",
       "      <td>35.84</td>\n",
       "      <td>313961.44</td>\n",
       "      <td>102968.32</td>\n",
       "      <td>210993.12</td>\n",
       "    </tr>\n",
       "    <tr>\n",
       "      <th>861</th>\n",
       "      <td>Europe</td>\n",
       "      <td>Montenegro</td>\n",
       "      <td>Beverages</td>\n",
       "      <td>Offline</td>\n",
       "      <td>L</td>\n",
       "      <td>12/1/2014</td>\n",
       "      <td>532324779</td>\n",
       "      <td>1/3/2015</td>\n",
       "      <td>5586</td>\n",
       "      <td>47.45</td>\n",
       "      <td>31.79</td>\n",
       "      <td>265055.70</td>\n",
       "      <td>177578.94</td>\n",
       "      <td>87476.76</td>\n",
       "    </tr>\n",
       "  </tbody>\n",
       "</table>\n",
       "</div>"
      ],
      "text/plain": [
       "                    Region          Country  Item Type Sales Channel  \\\n",
       "552                 Europe          Estonia  Beverages        Online   \n",
       "349  Australia and Oceania      New Zealand  Household       Offline   \n",
       "12                  Europe           Greece  Household        Online   \n",
       "642  Australia and Oceania  Solomon Islands    Clothes       Offline   \n",
       "861                 Europe       Montenegro  Beverages       Offline   \n",
       "\n",
       "    Order Priority  Order Date   Order ID   Ship Date  Units Sold  Unit Price  \\\n",
       "552              L  10/28/2011  373048341  12/12/2011        2149       47.45   \n",
       "349              L    3/8/2017  398511302   4/20/2017        7205      668.27   \n",
       "12               C  11/17/2016  702186715  12/22/2016        1508      668.27   \n",
       "642              M    8/9/2014  647278249   9/16/2014        2873      109.28   \n",
       "861              L   12/1/2014  532324779    1/3/2015        5586       47.45   \n",
       "\n",
       "     Unit Cost  Total Revenue  Total Cost  Total Profit  \n",
       "552      31.79      101970.05    68316.71      33653.34  \n",
       "349     502.54     4814885.35  3620800.70    1194084.65  \n",
       "12      502.54     1007751.16   757830.32     249920.84  \n",
       "642      35.84      313961.44   102968.32     210993.12  \n",
       "861      31.79      265055.70   177578.94      87476.76  "
      ]
     },
     "execution_count": 48,
     "metadata": {},
     "output_type": "execute_result"
    }
   ],
   "source": [
    "sales_df.sample(5)"
   ]
  },
  {
   "cell_type": "code",
   "execution_count": 77,
   "metadata": {},
   "outputs": [
    {
     "data": {
      "text/plain": [
       "array(['M', 'C', 'H', 'L'], dtype=object)"
      ]
     },
     "execution_count": 77,
     "metadata": {},
     "output_type": "execute_result"
    }
   ],
   "source": [
    "orderPriorityLst = sales_df['Order Priority'].unique()\n",
    "orderPriorityLst"
   ]
  },
  {
   "cell_type": "code",
   "execution_count": 78,
   "metadata": {},
   "outputs": [
    {
     "data": {
      "text/plain": [
       "L    268\n",
       "C    262\n",
       "M    242\n",
       "H    228\n",
       "Name: Order Priority, dtype: int64"
      ]
     },
     "execution_count": 78,
     "metadata": {},
     "output_type": "execute_result"
    }
   ],
   "source": [
    "orderPriorityCount = sales_df['Order Priority'].value_counts()\n",
    "orderPriorityCount"
   ]
  },
  {
   "cell_type": "code",
   "execution_count": 97,
   "metadata": {},
   "outputs": [
    {
     "name": "stdout",
     "output_type": "stream",
     "text": [
      "Available matplotlib backends: ['tk', 'gtk', 'gtk3', 'wx', 'qt4', 'qt5', 'qt', 'osx', 'nbagg', 'notebook', 'agg', 'svg', 'pdf', 'ps', 'inline', 'ipympl', 'widget']\n"
     ]
    },
    {
     "data": {
      "text/plain": [
       "<BarContainer object of 4 artists>"
      ]
     },
     "execution_count": 97,
     "metadata": {},
     "output_type": "execute_result"
    },
    {
     "data": {
      "image/png": "[encoded data removed]",
      "text/plain": [
       "<Figure size 432x288 with 1 Axes>"
      ]
     },
     "metadata": {
      "needs_background": "light"
     },
     "output_type": "display_data"
    }
   ],
   "source": [
    "import matplotlib.pyplot as plt\n",
    "%matplotlib --list\n",
    "#Sintaxe:\n",
    "#plt.plot(dados_horiz, dados_vert, <marcador>)\n",
    "#plt.xlabel('Order Priorty')    # rótulo do eixo horizontal\n",
    "#plt.ylabel('Frequency')    # rótulo do eixo vertical\n",
    "\n",
    "#solução 1.1:ok\n",
    "#plt.bar(orderPriorityLst, orderPriorityCount)\n",
    "#solução 1.2 ok\n",
    "#plt.bar(df['Order Priority'].unique(), df['Order Priority'].value_counts())\n",
    "#solução 2, usando hist (Mas não pode ser para a prova, pois a questão pede rótulos no eixo horizontal)\n",
    "#plt.hist(df['Order Priority'], density=1, orientation='horizontal')\n",
    "\n",
    "#Solução 3 (alternativa D)\n",
    "plt.bar(df['Order Priority'].value_counts().index, df['Order Priority'].value_counts().to_numpy())\n"
   ]
  },
  {
   "cell_type": "code",
   "execution_count": null,
   "metadata": {},
   "outputs": [],
   "source": []
  },
  {
   "cell_type": "markdown",
   "metadata": {},
   "source": [
    "---\n",
    "## Questão\n",
    "\n",
    "A partir da biblioteca scikit-learn, carregue a base de dados \"Breast Cancer Wisconsin (Diagnostic)\" por meio do método `load_breast_cancer` disponível no subpacote `sklearn.datasets`, obtendo seus componentes X (dados) e y (rótulos).\n",
    "\n",
    "A seguir, divida os dados em conjunto de treinamento e teste com o método `train_test_split`, utilizando 12,6% dos dados para teste, e a semente de geração pseudo-aleatória (`random_state`) igual a 2. Qual é o tamanho do array referente aos dados de treinamento que representam a quantidade de instâncias e atributos de entrada?\n",
    "\n",
    "a) (497,1)<br>\n",
    "b) (500,30)<br>\n",
    "c) (497,30)<br>\n",
    "d) (17,30)\n",
    "#Alternativa C "
   ]
  },
  {
   "cell_type": "code",
   "execution_count": 7,
   "metadata": {},
   "outputs": [
    {
     "name": "stdout",
     "output_type": "stream",
     "text": [
      "Tamanho dos dados (569, 30)\n",
      "y [0 1]\n",
      "Array de treinamento: (497, 30)\n"
     ]
    }
   ],
   "source": [
    "from sklearn.datasets import load_breast_cancer\n",
    "from sklearn.model_selection import train_test_split\n",
    "import numpy as np\n",
    "\n",
    "X, y = load_breast_cancer(return_X_y=True) # data, target\n",
    "\n",
    "print('Tamanho dos dados', X.shape)\n",
    "print('y', np.unique(y))\n",
    "\n",
    "X_train, X_test, y_train, y_test = train_test_split(X,y,test_size=0.126,random_state=2)\n",
    "\n",
    "print('Array de treinamento:',X_train.shape)\n"
   ]
  },
  {
   "cell_type": "code",
   "execution_count": null,
   "metadata": {},
   "outputs": [],
   "source": [
    "Pergunta\n",
    "Em MongoDB, e em outras soluções NoSQL, a escalabilidade horizontal é conseguida por meio de:\n",
    "\n",
    "Escolha uma opção:\n",
    "a. Múltiplos discos rígidos organizados por meio de tecnologia RAID;\n",
    "b. Pela instalação de mais pentes de memória, espaço em disco, processadores com múltiplos cores, e largura de banda ampliada;\n",
    "c. Pela técnica denominada Sharding, a qual prevê o particionamento horizontal (subconjuntos de documentos) dos dados, com cada partição sendo associada a um nó de armazenamento e processamento;\n",
    "d. Contratando-se mais administradores de bancos de dados, os quais deverão ser alocados em uma mesma unidade física das instalações da empresa.\n",
    "\n",
    "Alternativa C\n",
    "\n",
    "\n",
    "Usualmente, não requerem um esquema de dados, e/ou não priorizam\n",
    "operações de junção\n",
    "• Flexibilizam uma ou mais das propriedades ACID\n",
    "• São mais versáteis em termos de escala horizontal\n",
    "• São mais aderentes às estruturas de dados usuais nas linguagens de programação\n",
    "modernas\n",
    "• Se alicerçam nos recursos computacionais abundantes da atualidade:\n",
    "• Por exemplo: um banco de dados com 2 GB em 1999 era grande, hoje cabe em memória\n",
    "→ tendência que deve se intensificar ao longo das próximas décadas\n",
    "• Com redes de dados extremamente rápidas, podem enviar e receber grandes\n",
    "quantidades de dados em tempo razoável e escalar horizontalmente com facilidade"
   ]
  }
 ],
 "metadata": {
  "kernelspec": {
   "display_name": "Python 3",
   "language": "python",
   "name": "python3"
  },
  "language_info": {
   "codemirror_mode": {
    "name": "ipython",
    "version": 3
   },
   "file_extension": ".py",
   "mimetype": "text/x-python",
   "name": "python",
   "nbconvert_exporter": "python",
   "pygments_lexer": "ipython3",
   "version": "3.8.0"
  },
  "toc": {
   "base_numbering": 1,
   "nav_menu": {},
   "number_sections": true,
   "sideBar": true,
   "skip_h1_title": false,
   "title_cell": "Table of Contents",
   "title_sidebar": "Contents",
   "toc_cell": false,
   "toc_position": {},
   "toc_section_display": true,
   "toc_window_display": false
  }
 },
 "nbformat": 4,
 "nbformat_minor": 2
}
