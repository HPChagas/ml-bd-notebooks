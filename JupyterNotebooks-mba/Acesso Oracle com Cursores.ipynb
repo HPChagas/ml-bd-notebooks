{
 "cells": [
  {
   "cell_type": "markdown",
   "id": "QoB6fXBHimE_",
   "metadata": {
    "id": "QoB6fXBHimE_"
   },
   "source": [
    "# <font color=\"red\"> MBA em IA e Big Data</font>\n",
    "## <span style=\"color:red\">Linguagens e Ferramentas para Inteligência Artificial e Big Data (Python e SQL)</span>\n",
    "\n",
    "### <span style=\"color:darkred\">Importando e processando dados do Oracle via Python</span>\n",
    "\n",
    "*Jose Fernando Rodrigues Junior*<br>\n",
    "*ICMC/USP São Carlos*"
   ]
  },
  {
   "cell_type": "markdown",
   "id": "fYcIrsyEimFD",
   "metadata": {
    "id": "fYcIrsyEimFD"
   },
   "source": [
    "# Instalação\n",
    "* Oracle over Python: https://www.oracle.com/database/technologies/appdev/python/quickstartpythononprem.html#linux-tab\n",
    "* Download **Instant Client Basic Light**:\n",
    "    - Linux: https://download.oracle.com/otn_software/linux/instantclient/oracle-instantclient-basiclite-linuxx64.rpm\n",
    "    - Windows: https://www.oracle.com/database/technologies/instant-client/winx64-64-downloads.html \n",
    "    - MacOS: https://www.oracle.com/database/technologies/instant-client/macos-intel-x86-downloads.html\n",
    "* Linux:\n",
    "    * sudo alien -i oracle-instantclient-basiclite-linuxx64.rpm\n",
    "    * pip install cx_Oracle"
   ]
  },
  {
   "cell_type": "code",
   "execution_count": 1,
   "id": "LF37WLvqimFD",
   "metadata": {
    "id": "LF37WLvqimFD"
   },
   "outputs": [],
   "source": [
    "#Instalar o Oracle Instant Client (basic ou light) - sudo alien -i oracle-instantclient-basiclite-linuxx64.rpm\n",
    "#Depois instalar o cx_oracle: conda install -c anaconda cx_oracle\n",
    "import cx_Oracle #documentacao https://cx-oracle.readthedocs.io/en/latest/user_guide/introduction.html\n",
    "import pandas as pd\n",
    "import sqlalchemy"
   ]
  },
  {
   "cell_type": "markdown",
   "id": "1TvrJ2BpimFF",
   "metadata": {
    "id": "1TvrJ2BpimFF"
   },
   "source": [
    "* O `cx_Oracle` é um módulo de extensão Python que permite acesso ao banco de dados Oracle; o cx_Oracle está, parcialmente, em conformidade com a especificação da `DB-API 2.0` para banco de dados por meio de Python;\n",
    "* A python DB-API é uma especificação para uma interface comum para bancos de dados relacionais definida no documento `Python Enhancement Proposal 249` (https://www.python.org/dev/peps/pep-0249/);\n",
    "* `SQLAlchemy` é um módulo Python com dois objetivos:\n",
    "    * Kit de ferramentas Python-SQL: oferece funcionalidades flexíveis para uso simplificado e abstrato de SQL;\n",
    "    * Mapeador Relacional de Objetos: uma técnica de mapeamento objeto relacional que permite fazer uma relação dos objetos programados com os dados relacionais que os mesmos representams."
   ]
  },
  {
   "cell_type": "code",
   "execution_count": 2,
   "id": "FqViuC8CimFG",
   "metadata": {
    "id": "FqViuC8CimFG",
    "outputId": "6c968fcd-9a63-4829-bc6d-92aa8c24dcb7"
   },
   "outputs": [],
   "source": [
    "#Howto: https://www.oracle.com/database/technologies/appdev/python/quickstartpythononprem.html#copy\n",
    "#executar uma vez por sessão - lib dir é o diretório onde se encontra o arquivo libclntsh.so\n",
    "try:\n",
    "    cx_Oracle.init_oracle_client(lib_dir=\"/usr/lib/oracle/21/client64/lib/\")\n",
    "except Exception as e:\n",
    "    print(str(e))"
   ]
  },
  {
   "cell_type": "code",
   "execution_count": 3,
   "id": "HUm-11BXimFH",
   "metadata": {
    "id": "HUm-11BXimFH",
    "outputId": "0d2286d4-e9ad-46e8-b6b6-c2668dfe4876"
   },
   "outputs": [
    {
     "name": "stdout",
     "output_type": "stream",
     "text": [
      "11.2.0.1.0\n"
     ]
    }
   ],
   "source": [
    "dsnStr = cx_Oracle.makedsn(\"grad.icmc.usp.br\", \"15215\", \"orcl\")\n",
    "conexao = cx_Oracle.connect(user=\"M28804725800\", password=\"M28804725800\", dsn=dsnStr)\n",
    "print(conexao.version)\n",
    "\n",
    "#No caso de PostgreSQL, usa-se a biblioteca psycopg2\n",
    "#import psycopg2\n",
    "#conn = psycopg2.connect(host=host_address, database=name_of_database, user=user_name, password=user_password)"
   ]
  },
  {
   "cell_type": "markdown",
   "id": "BRTgcp4pimFI",
   "metadata": {
    "id": "BRTgcp4pimFI"
   },
   "source": [
    "## Cursor\n",
    "* Uma conexão fornece objetos do tipo `cursor`; os quais permitem operações DDL e DML no banco conectado."
   ]
  },
  {
   "cell_type": "code",
   "execution_count": 5,
   "id": "u82QvEQAimFI",
   "metadata": {
    "id": "u82QvEQAimFI"
   },
   "outputs": [],
   "source": [
    "cursorDDL = conexao.cursor()\n",
    "cursorDML = conexao.cursor()"
   ]
  },
  {
   "cell_type": "markdown",
   "id": "aBGAXO_LimFI",
   "metadata": {
    "id": "aBGAXO_LimFI"
   },
   "source": [
    "## Criação de um esquema a partir de um script sql\n",
    "\n",
    "    1) Aqui fazemos a leitura completa de um arquivo;\n",
    "    2) Quebra do texto usando a operação de split, considerando o \";\" como separador;\n",
    "    3) Para cada comando encontrado, executamos o SQL por meio de um cursor;\n",
    "    4) Tratamos eventuais erros usando uma construção try-except."
   ]
  },
  {
   "cell_type": "code",
   "execution_count": 17,
   "id": "_C6eEd4zimFJ",
   "metadata": {
    "id": "_C6eEd4zimFJ",
    "outputId": "df81b4e4-0d87-4cf1-802e-43613de9262d"
   },
   "outputs": [
    {
     "name": "stdout",
     "output_type": "stream",
     "text": [
      "Drop table time cascade constraints\n",
      "\n",
      "Drop table joga cascade constraints\n",
      "\n",
      "Drop table partida cascade constraints\n",
      "\n",
      "Drop table jogador cascade constraints\n",
      "\n",
      "Drop table posicao_jogador cascade constraints\n",
      "\n",
      "Drop table diretor cascade constraints\n",
      "\n",
      "Drop table uniforme cascade constraints\n",
      "\n",
      "\n",
      "CREATE TABLE time (\n",
      "      nome       VARCHAR2(40) NOT NULL,\n",
      "      estado     CHAR(2),\n",
      "      tipo       VARCHAR2(15),\n",
      "      saldo_gols INTEGER,\n",
      "      \n",
      "      CONSTRAINT pk_time PRIMARY KEY (nome),\n",
      "      CONSTRAINT ck_tipo CHECK (tipo in ('amador', 'profissional'))\n",
      ")\n",
      "\n",
      "\n",
      "CREATE TABLE joga (\n",
      "      time1      VARCHAR2(40) NOT NULL,\n",
      "      time2      VARCHAR2(40) NOT NULL,\n",
      "      classico   CHAR(1),\n",
      "\n",
      "      CONSTRAINT pk_joga PRIMARY KEY (time1, time2),\n",
      "      CONSTRAINT fk_joga1 FOREIGN KEY (time1) REFERENCES time(NOME) ON DELETE CASCADE,\n",
      "      CONSTRAINT fk_joga2 FOREIGN KEY (time2) REFERENCES time(NOME) ON DELETE CASCADE,\n",
      "      CONSTRAINT ck_classico CHECK (classico in ('S', 'N'))\n",
      ")\n",
      "\n",
      "\n",
      "CREATE TABLE partida (\n",
      "      time1      VARCHAR2(40) NOT NULL,\n",
      "      time2      VARCHAR2(40) NOT NULL,\n",
      "      data       DATE NOT NULL,\n",
      "      local      VARCHAR2(40),\n",
      "      placar     VARCHAR2(5) DEFAULT '0x0' NOT NULL,\n",
      "\n",
      "      CONSTRAINT pk_partida PRIMARY KEY (time1, time2, data),\n",
      "      CONSTRAINT fk_partida FOREIGN KEY (time1, time2) REFERENCES joga(time1, time2) ON DELETE CASCADE,\n",
      "      CONSTRAINT ck_placar  CHECK (placar like '%x%')\n",
      ")\n",
      "\n",
      "\n",
      "CREATE TABLE jogador (\n",
      "      rg              VARCHAR2(15) NOT NULL,\n",
      "      nome            VARCHAR2(40) NOT NULL,\n",
      "      data_nascimento DATE,\n",
      "      naturalidade    VARCHAR2(40),\n",
      "      time_atua       VARCHAR2(40),\n",
      "\n",
      "      CONSTRAINT pk_jogador PRIMARY KEY (rg),\n",
      "      CONSTRAINT un_jogador UNIQUE (nome),\n",
      "      CONSTRAINT fk_jogador FOREIGN KEY (time_atua) REFERENCES time(nome) ON DELETE SET NULL\n",
      ")\n",
      "\n",
      "\n",
      "CREATE TABLE posicao_jogador (\n",
      "      jogador         VARCHAR2(15) NOT NULL,\n",
      "      posicao         VARCHAR2(40) NOT NULL,\n",
      "\n",
      "      CONSTRAINT pk_posicao_jogador PRIMARY KEY (jogador, posicao),\n",
      "      CONSTRAINT fk_posicao_jogador FOREIGN KEY (jogador) REFERENCES jogador(rg) ON DELETE CASCADE\n",
      ")\n",
      "\n",
      "\n",
      "CREATE TABLE diretor (\n",
      "      timedir         VARCHAR2(40) NOT NULL,\n",
      "      nome            VARCHAR2(50) NOT NULL,\n",
      "      sobrenome       VARCHAR2(50) NOT NULL,\n",
      "\n",
      "      CONSTRAINT pk_diretor PRIMARY KEY (timedir, nome, sobrenome),\n",
      "      CONSTRAINT fk_diretor FOREIGN KEY (timedir) REFERENCES time(nome) ON DELETE CASCADE\n",
      ")\n",
      "\n",
      "\n",
      "CREATE TABLE uniforme (\n",
      "      timeunif        VARCHAR2(40) NOT NULL,\n",
      "      tipo            VARCHAR2(10) NOT NULL,\n",
      "      corprincipal    VARCHAR2(30) NOT NULL,\n",
      "\n",
      "      CONSTRAINT pk_uniforme PRIMARY KEY (timeunif, tipo),\n",
      "      CONSTRAINT fk_uniforme FOREIGN KEY (timeunif) REFERENCES time(nome) ON DELETE CASCADE,\n",
      "      CONSTRAINT ck_uniforme CHECK (tipo in ('titular', 'reserva'))\n",
      ")\n",
      "\n",
      "\n",
      "Erro de SQL: ORA-00900: invalid SQL statement: \n",
      "\n",
      "Script finalizado.\n"
     ]
    }
   ],
   "source": [
    "#Primeiro o esquema\n",
    "pathEsquemaFutebol = '/MBA_AI_e_ML/01CursoLinguagens e Ferramentas_Frameworks/Semana4-Python_e_Frameworks/00Dados_de_apoio-Aula07/'\n",
    "fd = open(pathEsquemaFutebol+'Esquema_Futebol.sql', 'r')\n",
    "sqlFile = fd.read()\n",
    "\n",
    "fd.close()\n",
    "\n",
    "sqlCommands = sqlFile.split(';')\n",
    "for command in sqlCommands:\n",
    "    if(command == ''): break;\n",
    "    try:\n",
    "        print(command)\n",
    "        #print()\n",
    "        cursorDDL.execute(command)\n",
    "    except Exception as msg:\n",
    "        print(\"Erro de SQL: \"+ str(msg) + \": \"+ command)\n",
    "print('Script finalizado.')"
   ]
  },
  {
   "cell_type": "code",
   "execution_count": 18,
   "id": "v-f6u2NFimFJ",
   "metadata": {
    "id": "v-f6u2NFimFJ",
    "outputId": "340bae88-e608-4ad6-8b4c-176eb715c745"
   },
   "outputs": [
    {
     "name": "stdout",
     "output_type": "stream",
     "text": [
      "insert into time values ('Sao Paulo',     'SP', 'profissional', 8)\n",
      "\n",
      "insert into time values ('Palmeiras',     'SP', 'profissional', 5)\n",
      "\n",
      "insert into time values ('Santos',        'SP', 'profissional', 0)\n",
      "\n",
      "insert into time values ('Corinthians',   'SP', 'profissional', 6)\n",
      "\n",
      "insert into time values ('Paulistinha',   'SP', 'amador',       1)\n",
      "\n",
      "insert into time values ('Ibate',         'SP', 'amador',       0)\n",
      "\n",
      "insert into time values ('Cruzeiro',      'MG', 'profissional', 2)\n",
      "\n",
      "insert into time values ('Atletico',      'MG', 'profissional', 3)\n",
      "\n",
      "insert into time values ('Frutal',        'MG', 'amador',       1)\n",
      "\n",
      "\n",
      "insert into joga values ('Sao Paulo',   'Palmeiras',   'S')\n",
      "\n",
      "insert into joga values ('Ibate',       'Paulistinha', 'N')\n",
      "\n",
      "insert into joga values ('Ibate',       'Frutal',      'S')\n",
      "\n",
      "insert into joga values ('Santos',      'Corinthians', 'N')\n",
      "\n",
      "insert into joga values ('Corinthians', 'Palmeiras',   'S')\n",
      "\n",
      "insert into joga values ('Santos',      'Sao Paulo',    'N')\n",
      "\n",
      "insert into joga values ('Sao Paulo',   'Corinthians', 'S')\n",
      "\n",
      "insert into joga values ('Santos',      'Palmeiras',   'N')\n",
      "\n",
      "\n",
      "insert into partida values ('Sao Paulo', 'Palmeiras', TO_DATE('15/05/2007', 'DD/MM/YYYY'), 'Morumbi', '2x0')\n",
      "\n",
      "insert into partida values ('Santos', 'Sao Paulo',   TO_DATE('20/05/2007', 'DD/MM/YYYY'), 'Pacaembu',   '1x0')\n",
      "\n",
      "insert into partida values ('Santos',    'Palmeiras',  TO_DATE('06/06/2007', 'DD/MM/YYYY'), 'Vila Belmiro', '0x1')\n",
      "\n",
      "insert into partida (time1, time2, data, local) values ('Ibate','Paulistinha', TO_DATE('25/05/2007', 'DD/MM/YYYY'), 'Luizao')\n",
      "\n",
      "insert into partida (time1, time2, data, local) values ('Santos',    'Corinthians', TO_DATE('30/05/2007', 'DD/MM/YYYY'), 'Pacaembu')\n",
      "\n",
      "\n",
      "insert into jogador values (111111111, 'Pele', TO_DATE('15/05/1955', 'DD/MM/YYYY'), 'Santos', 'Santos')\n",
      "\n",
      "insert into jogador values (111111112, 'Garrincha', TO_DATE('01/12/1945', 'DD/MM/YYYY'), 'Sao Paulo', 'Ibate')\n",
      "\n",
      "insert into jogador values (111111113, 'Muller', TO_DATE('09/09/1960', 'DD/MM/YYYY'), 'Sao Paulo', 'Sao Paulo')\n",
      "\n",
      "insert into jogador values (111111114, 'Zeca',  TO_DATE('09/09/1980', 'DD/MM/YYYY'), 'Frutal', 'Frutal')\n",
      "\n",
      "insert into jogador (rg, nome, data_nascimento, naturalidade) values (111111115, 'Juca',  TO_DATE('09/09/1982', 'DD/MM/YYYY'), 'Sao Carlos')\n",
      "\n",
      "\n",
      "\n",
      "insert into posicao_jogador values (111111113, 'Atacante')\n",
      "\n",
      "insert into posicao_jogador values (111111112, 'Zagueiro')\n",
      "\n",
      "insert into posicao_jogador values (111111111, 'Centroavante')\n",
      "\n",
      "\n",
      "insert into diretor values ('Sao Paulo',   'Joao',    'da Silva')\n",
      "\n",
      "insert into diretor values ('Palmeiras',   'Jose',    'Souza')\n",
      "\n",
      "insert into diretor values ('Corinthians', 'Tome',    'Sauza')\n",
      "\n",
      "insert into diretor values ('Ibate',       'Manuel',  'Carlos')\n",
      "\n",
      "insert into diretor values ('Paulistinha', 'Joaquim', 'Moura')\n",
      "\n",
      "\n",
      "insert into uniforme values ('Atletico', 'titular', 'vermelho')\n",
      "\n",
      "insert into uniforme values ('Atletico', 'reserva', 'preto')\n",
      "\n",
      "insert into uniforme values ('Sao Paulo',   'titular', 'vermelho')\n",
      "\n",
      "insert into uniforme values ('Sao Paulo',   'reserva', 'branca')\n",
      "\n",
      "insert into uniforme values ('Palmeiras',   'titular', 'verde')\n",
      "\n",
      "insert into uniforme values ('Palmeiras',   'reserva', 'branca')\n",
      "\n",
      "insert into uniforme values ('Corinthians', 'titular', 'branca')\n",
      "\n",
      "insert into uniforme values ('Corinthians', 'reserva', 'preto')\n",
      "\n",
      "insert into uniforme values ('Frutal', 'titular', 'vermelho')\n",
      "\n",
      "insert into uniforme values ('Frutal', 'reserva', 'preto')\n",
      "\n",
      "\n",
      "Erro de SQL: ORA-00900: invalid SQL statement: |\n",
      "|\n",
      "Script finalizado.\n"
     ]
    }
   ],
   "source": [
    "#Agora as relações instanciadas\n",
    "fd = open(pathEsquemaFutebol+'Dados_Futebol.sql', 'r')\n",
    "sqlFile = fd.read()\n",
    "fd.close()\n",
    "\n",
    "sqlCommands = sqlFile.split(';')\n",
    "for command in sqlCommands:\n",
    "    try:\n",
    "        print(command)\n",
    "        #print()\n",
    "        cursorDDL.execute(command)        \n",
    "    except Exception as msg:\n",
    "        print(\"Erro de SQL: \"+ str(msg) + \": |\"+ command+'|')\n",
    "print('Script finalizado.')"
   ]
  },
  {
   "cell_type": "markdown",
   "id": "lENYzTGSimFK",
   "metadata": {
    "id": "lENYzTGSimFK"
   },
   "source": [
    "# Consulta à estrutura do esquema por meio do Dicionário de Dados\n",
    "\n",
    "* O dicionário de dados é o banco de dados que guarda informações sobre os esquemas presentes no banco de dados.\n",
    "Ele é usado para a realização de meta operações sobre a base de dados; por exemplo, a interface gráfica de um cliente SQL, ou os campos que constituirão um formulário de dados."
   ]
  },
  {
   "cell_type": "code",
   "execution_count": 19,
   "id": "QdP-4IfUimFK",
   "metadata": {
    "id": "QdP-4IfUimFK",
    "outputId": "194b843d-99f2-4bda-a145-9c8e2c3c1fd4"
   },
   "outputs": [
    {
     "name": "stdout",
     "output_type": "stream",
     "text": [
      "Lista das tabelas no esquema do usuário que estabeleceu a conexão:\n",
      "DIRETOR\n",
      "JOGA\n",
      "JOGADOR\n",
      "PARTIDA\n",
      "POSICAO_JOGADOR\n",
      "TIME\n",
      "UNIFORME\n"
     ]
    }
   ],
   "source": [
    "cursorDML.execute('select * from user_tables')\n",
    "print('Lista das tabelas no esquema do usuário que estabeleceu a conexão:')\n",
    "for tupla in cursorDML:     \n",
    "    print(tupla[0])"
   ]
  },
  {
   "cell_type": "markdown",
   "id": "6143Y3GYimFL",
   "metadata": {
    "id": "6143Y3GYimFL"
   },
   "source": [
    "* Aqui, define-se uma função para recuperar todas as chaves estrangeiras de uma dada tabela."
   ]
  },
  {
   "cell_type": "code",
   "execution_count": 20,
   "id": "4GtW-SVtimFL",
   "metadata": {
    "id": "4GtW-SVtimFL"
   },
   "outputs": [],
   "source": [
    "def printForeignKeys(sATableName = ''):\n",
    "    SQL=('SELECT a.table_name, a.column_name, a.constraint_name, c.owner, c.r_owner, '\n",
    "         'c_pk.table_name r_table_name, c_pk.constraint_name r_pk FROM user_cons_columns a '\n",
    "         'JOIN user_constraints c ON a.owner = c.owner '\n",
    "         'AND a.constraint_name = c.constraint_name '\n",
    "         'JOIN user_constraints c_pk ON c.r_owner = c_pk.owner '\n",
    "         'AND c.r_constraint_name = c_pk.constraint_name '\n",
    "         'WHERE c.constraint_type = \\'R\\' ')\n",
    "    if(sATableName != ''):\n",
    "        SQL += 'AND a.table_name = \\'' + sATableName.upper() +'\\' '\n",
    "    SQL += 'ORDER BY a.table_name, constraint_name'\n",
    "    cursorTemp = conexao.cursor()\n",
    "    cursorTemp.execute(SQL)\n",
    "    for tupla in cursorTemp:\n",
    "        print(tupla)\n",
    "    cursorTemp.close()"
   ]
  },
  {
   "cell_type": "code",
   "execution_count": 22,
   "id": "rCmnWMCuimFM",
   "metadata": {
    "id": "rCmnWMCuimFM",
    "outputId": "adcde8df-c8d7-49a0-fe27-fc46bf9ad205"
   },
   "outputs": [
    {
     "name": "stdout",
     "output_type": "stream",
     "text": [
      "('DIRETOR', 'TIMEDIR', 'FK_DIRETOR', 'M28804725800', 'M28804725800', 'TIME', 'PK_TIME')\n",
      "('JOGA', 'TIME1', 'FK_JOGA1', 'M28804725800', 'M28804725800', 'TIME', 'PK_TIME')\n",
      "('JOGA', 'TIME2', 'FK_JOGA2', 'M28804725800', 'M28804725800', 'TIME', 'PK_TIME')\n",
      "('JOGADOR', 'TIME_ATUA', 'FK_JOGADOR', 'M28804725800', 'M28804725800', 'TIME', 'PK_TIME')\n",
      "('PARTIDA', 'TIME1', 'FK_PARTIDA', 'M28804725800', 'M28804725800', 'JOGA', 'PK_JOGA')\n",
      "('PARTIDA', 'TIME2', 'FK_PARTIDA', 'M28804725800', 'M28804725800', 'JOGA', 'PK_JOGA')\n",
      "('POSICAO_JOGADOR', 'JOGADOR', 'FK_POSICAO_JOGADOR', 'M28804725800', 'M28804725800', 'JOGADOR', 'PK_JOGADOR')\n",
      "('UNIFORME', 'TIMEUNIF', 'FK_UNIFORME', 'M28804725800', 'M28804725800', 'TIME', 'PK_TIME')\n"
     ]
    }
   ],
   "source": [
    "printForeignKeys('')"
   ]
  },
  {
   "cell_type": "code",
   "execution_count": 39,
   "id": "049ce481",
   "metadata": {},
   "outputs": [
    {
     "name": "stdout",
     "output_type": "stream",
     "text": [
      "10\n"
     ]
    }
   ],
   "source": [
    "cursorDML.execute('select count(*) from uniforme')\n",
    "\n",
    "for tupla in cursorDML:     \n",
    "    print(tupla[0])"
   ]
  },
  {
   "cell_type": "markdown",
   "id": "5jaKeB8limFM",
   "metadata": {
    "id": "5jaKeB8limFM"
   },
   "source": [
    "## Diagram da base de dados Futebol, usada neste notebook."
   ]
  },
  {
   "cell_type": "markdown",
   "id": "gwO0lOlrimFM",
   "metadata": {
    "id": "gwO0lOlrimFM"
   },
   "source": [
    "<img src=\"./EsquemaFutebol/EsquemaFutebol.png\" width=350 height=350 />"
   ]
  },
  {
   "cell_type": "markdown",
   "id": "Zxbv07grimFM",
   "metadata": {
    "id": "Zxbv07grimFM"
   },
   "source": [
    "* Inserindo alguns dados."
   ]
  },
  {
   "cell_type": "code",
   "execution_count": 40,
   "id": "Hkni4AwdimFZ",
   "metadata": {
    "id": "Hkni4AwdimFZ"
   },
   "outputs": [],
   "source": [
    "cursorDML.execute(\"insert into Time values ('Fortaleza', 'CE', 'profissional', 2)\")\n",
    "#usando binding variables\n",
    "#reparar que a estrutura do SQL fica igual, porém logo após o () vem um arrei de mesma dimensão\n",
    "cursorDML.execute(\"insert into Time values (:a,:b,:c,:d)\",['Juventude', 'RS', 'profissional', 3])\n",
    "cursorDML.execute(\"insert into Joga values (:a,:b,:c)\",['Juventude', 'Fortaleza', 'N'])"
   ]
  },
  {
   "cell_type": "markdown",
   "id": "uJPzUq-GimFZ",
   "metadata": {
    "id": "uJPzUq-GimFZ"
   },
   "source": [
    "* Se foi tudo ok, executar `commit()`; do contrário, executar `rollback()` para desfazer as atualizações"
   ]
  },
  {
   "cell_type": "code",
   "execution_count": 42,
   "id": "hAG5nNnVimFZ",
   "metadata": {
    "id": "hAG5nNnVimFZ"
   },
   "outputs": [],
   "source": [
    "conexao.commit()"
   ]
  },
  {
   "cell_type": "markdown",
   "id": "T4R0ohhfimFZ",
   "metadata": {
    "id": "T4R0ohhfimFZ"
   },
   "source": [
    "# Recuperando dados com cursores\n",
    "* Pode-se requisitar os dados da base um por vez, o que consome mais recursos de rede e processamento no servidor; ou múltiplos por vez (batch), o que é mais eficiente. Se houver memória (ou poucos dados) pode-se recuperar todos os dados de uma vez."
   ]
  },
  {
   "cell_type": "markdown",
   "id": "oJi-yvlaimFa",
   "metadata": {
    "id": "oJi-yvlaimFa"
   },
   "source": [
    "* Um por vez"
   ]
  },
  {
   "cell_type": "code",
   "execution_count": 43,
   "id": "h4MAELpNimFa",
   "metadata": {
    "id": "h4MAELpNimFa",
    "outputId": "8f3b56eb-f6dc-434b-fdd3-d65338335472"
   },
   "outputs": [
    {
     "name": "stdout",
     "output_type": "stream",
     "text": [
      "('Ibate', 'Paulistinha', 'N')\n",
      "('Santos', 'Corinthians', 'N')\n",
      "('Santos', 'Sao Paulo', 'N')\n",
      "('Santos', 'Palmeiras', 'N')\n",
      "('Juventude', 'Fortaleza', 'N')\n"
     ]
    }
   ],
   "source": [
    "cursorDML.execute(\"select * from Joga where classico = \\'N\\'\")\n",
    "while True:\n",
    "    row = cursorDML.fetchone()  #Um por vez\n",
    "    if row is None: break\n",
    "    print(row)"
   ]
  },
  {
   "cell_type": "markdown",
   "id": "MXT0r6B_imFa",
   "metadata": {
    "id": "MXT0r6B_imFa"
   },
   "source": [
    "* **Batch**: menos requisições de rede/transferência de dados; menos processamento no servidor"
   ]
  },
  {
   "cell_type": "code",
   "execution_count": 44,
   "id": "n-MlqddXimFa",
   "metadata": {
    "id": "n-MlqddXimFa",
    "outputId": "f252b4cf-30bc-4bb3-81e8-efecdbe2aa60"
   },
   "outputs": [
    {
     "name": "stdout",
     "output_type": "stream",
     "text": [
      "('Sao Paulo', 'SP', 'profissional', 8)\n",
      "('Palmeiras', 'SP', 'profissional', 5)\n",
      "('Santos', 'SP', 'profissional', 0)\n",
      "('Corinthians', 'SP', 'profissional', 6)\n",
      "('Paulistinha', 'SP', 'amador', 1)\n",
      "('Ibate', 'SP', 'amador', 0)\n",
      "('Cruzeiro', 'MG', 'profissional', 2)\n",
      "('Atletico', 'MG', 'profissional', 3)\n",
      "('Frutal', 'MG', 'amador', 1)\n",
      "('Fortaleza', 'CE', 'profissional', 2)\n",
      "('Juventude', 'RS', 'profissional', 3)\n",
      "\n",
      "Foram recuperadas 11 tuplas.\n"
     ]
    }
   ],
   "source": [
    "cursorDML.execute(\"select * from Time\")\n",
    "num_rows = 11\n",
    "while True:\n",
    "    rows = cursorDML.fetchmany(num_rows) #Muitos por vez\n",
    "    if not rows: break\n",
    "    for row in rows:\n",
    "        print(row)\n",
    "        \n",
    "print()\n",
    "print(\"Foram recuperadas \"+str(cursorDML.rowcount) +\" tuplas.\")\n"
   ]
  },
  {
   "cell_type": "markdown",
   "id": "-eWAY5qhimFb",
   "metadata": {
    "id": "-eWAY5qhimFb"
   },
   "source": [
    "* É possível ainda recuperar meta-informações sobre as colunas retornadas por meio do cursor"
   ]
  },
  {
   "cell_type": "code",
   "execution_count": 45,
   "id": "OBSRZnZiimFb",
   "metadata": {
    "id": "OBSRZnZiimFb",
    "outputId": "ed12967f-bfc5-4bfe-fece-d5e635e908a3"
   },
   "outputs": [
    {
     "name": "stdout",
     "output_type": "stream",
     "text": [
      "('NOME', <cx_Oracle.DbType DB_TYPE_VARCHAR>, 40, 40, None, None, 0)\n",
      "('ESTADO', <cx_Oracle.DbType DB_TYPE_CHAR>, 2, 2, None, None, 1)\n",
      "('TIPO', <cx_Oracle.DbType DB_TYPE_VARCHAR>, 15, 15, None, None, 1)\n",
      "('SALDO_GOLS', <cx_Oracle.DbType DB_TYPE_NUMBER>, 39, None, 38, 0, 1)\n"
     ]
    }
   ],
   "source": [
    "for metadata in cursorDML.description:\n",
    "    print(metadata)"
   ]
  },
  {
   "cell_type": "markdown",
   "id": "w0jShP6JimFb",
   "metadata": {
    "id": "w0jShP6JimFb"
   },
   "source": [
    "# Usando rowfactories\n",
    "\n",
    "* Com rowfactories podemos processar os dados recuperados antes de retorná-los."
   ]
  },
  {
   "cell_type": "code",
   "execution_count": 46,
   "id": "XHPZC86himFb",
   "metadata": {
    "id": "XHPZC86himFb",
    "outputId": "d1a5d60a-4d5c-4289-bbf0-a3633442bf91"
   },
   "outputs": [],
   "source": [
    "cursorDML.execute(\"select * from jogador\")\n",
    "columns = [col[0] for col in cursorDML.description] # array com os nomes dos atributos\n",
    "\n",
    "cursorDML.rowfactory = lambda *args: zip(columns, args) #aplica lambda para cada tupla\n"
   ]
  },
  {
   "cell_type": "code",
   "execution_count": 47,
   "id": "JKD7sNNGimFc",
   "metadata": {
    "id": "JKD7sNNGimFc",
    "outputId": "777c0137-3dc1-415d-8853-90f08beacb50"
   },
   "outputs": [
    {
     "name": "stdout",
     "output_type": "stream",
     "text": [
      "[('RG', '111111111'), ('NOME', 'Pele'), ('DATA_NASCIMENTO', datetime.datetime(1955, 5, 15, 0, 0)), ('NATURALIDADE', 'Santos'), ('TIME_ATUA', 'Santos')]\n"
     ]
    }
   ],
   "source": [
    "#a operação de fetch garante a execução do lambda\n",
    "data = cursorDML.fetchone()\n",
    "#o resultado é o produto cartesiano {nomes do atributos} x {valores dos atributos}\n",
    "print(list(data))"
   ]
  },
  {
   "cell_type": "markdown",
   "id": "iN9tlFbWimFc",
   "metadata": {
    "id": "iN9tlFbWimFc"
   },
   "source": [
    "# Lendo dados do banco diretamente para um Pandas Dataframe"
   ]
  },
  {
   "cell_type": "markdown",
   "id": "paS75-AfimFc",
   "metadata": {
    "id": "paS75-AfimFc"
   },
   "source": [
    "* Uma consulta SQL."
   ]
  },
  {
   "cell_type": "code",
   "execution_count": 48,
   "id": "TSAL6786imFc",
   "metadata": {
    "id": "TSAL6786imFc"
   },
   "outputs": [],
   "source": [
    "meuDataFrame = pd.read_sql_query('SELECT * FROM Partida', con=conexao)"
   ]
  },
  {
   "cell_type": "code",
   "execution_count": 49,
   "id": "IG8QDhF_imFc",
   "metadata": {
    "id": "IG8QDhF_imFc",
    "outputId": "6f165ab8-030d-4e6e-be17-ec432408d1eb"
   },
   "outputs": [
    {
     "data": {
      "text/html": [
       "<div>\n",
       "<style scoped>\n",
       "    .dataframe tbody tr th:only-of-type {\n",
       "        vertical-align: middle;\n",
       "    }\n",
       "\n",
       "    .dataframe tbody tr th {\n",
       "        vertical-align: top;\n",
       "    }\n",
       "\n",
       "    .dataframe thead th {\n",
       "        text-align: right;\n",
       "    }\n",
       "</style>\n",
       "<table border=\"1\" class=\"dataframe\">\n",
       "  <thead>\n",
       "    <tr style=\"text-align: right;\">\n",
       "      <th></th>\n",
       "      <th>TIME1</th>\n",
       "      <th>TIME2</th>\n",
       "      <th>DATA</th>\n",
       "      <th>LOCAL</th>\n",
       "      <th>PLACAR</th>\n",
       "    </tr>\n",
       "  </thead>\n",
       "  <tbody>\n",
       "    <tr>\n",
       "      <th>0</th>\n",
       "      <td>Sao Paulo</td>\n",
       "      <td>Palmeiras</td>\n",
       "      <td>2007-05-15</td>\n",
       "      <td>Morumbi</td>\n",
       "      <td>2x0</td>\n",
       "    </tr>\n",
       "    <tr>\n",
       "      <th>1</th>\n",
       "      <td>Santos</td>\n",
       "      <td>Sao Paulo</td>\n",
       "      <td>2007-05-20</td>\n",
       "      <td>Pacaembu</td>\n",
       "      <td>1x0</td>\n",
       "    </tr>\n",
       "    <tr>\n",
       "      <th>2</th>\n",
       "      <td>Santos</td>\n",
       "      <td>Palmeiras</td>\n",
       "      <td>2007-06-06</td>\n",
       "      <td>Vila Belmiro</td>\n",
       "      <td>0x1</td>\n",
       "    </tr>\n",
       "    <tr>\n",
       "      <th>3</th>\n",
       "      <td>Ibate</td>\n",
       "      <td>Paulistinha</td>\n",
       "      <td>2007-05-25</td>\n",
       "      <td>Luizao</td>\n",
       "      <td>0x0</td>\n",
       "    </tr>\n",
       "    <tr>\n",
       "      <th>4</th>\n",
       "      <td>Santos</td>\n",
       "      <td>Corinthians</td>\n",
       "      <td>2007-05-30</td>\n",
       "      <td>Pacaembu</td>\n",
       "      <td>0x0</td>\n",
       "    </tr>\n",
       "  </tbody>\n",
       "</table>\n",
       "</div>"
      ],
      "text/plain": [
       "       TIME1        TIME2       DATA         LOCAL PLACAR\n",
       "0  Sao Paulo    Palmeiras 2007-05-15       Morumbi    2x0\n",
       "1     Santos    Sao Paulo 2007-05-20      Pacaembu    1x0\n",
       "2     Santos    Palmeiras 2007-06-06  Vila Belmiro    0x1\n",
       "3      Ibate  Paulistinha 2007-05-25        Luizao    0x0\n",
       "4     Santos  Corinthians 2007-05-30      Pacaembu    0x0"
      ]
     },
     "execution_count": 49,
     "metadata": {},
     "output_type": "execute_result"
    }
   ],
   "source": [
    "meuDataFrame"
   ]
  },
  {
   "cell_type": "markdown",
   "id": "2qQVLJMximFd",
   "metadata": {
    "id": "2qQVLJMximFd"
   },
   "source": [
    "* ATENCAO: um dataframe nada mais é do que `uma tabela (uma relação) em memória`. Muito provavelmente, ler uma tabela inteira em memória vai causar problemas de falta de memória e de processamento. Uma solução é ler pedaços (**chunks**) da tabela em um objeto do tipo **generator**;\n",
    "\n",
    "* Pode-se fazer isso usando-se uma variação do `read_sql_query()` com o parâmetro `chunksize` fornecido. Neste caso, o resultado não será um DataFrame, mas sim um objeto do tipo **generator**, o qual fornecerá um DataFrame com chunksize elementos a cada iteração;\n",
    "\n",
    "* **Generator**: uma abstração de dados que permite a geração de resultados/produtos sequencialmente, os quais são produzidos mediante requisição. Após um generator ser consumido, ele precisa ser regerado."
   ]
  },
  {
   "cell_type": "code",
   "execution_count": 50,
   "id": "XAOa_Os0imFd",
   "metadata": {
    "id": "XAOa_Os0imFd",
    "outputId": "8796d4b8-65e0-4b17-e7e4-9360823472a9"
   },
   "outputs": [
    {
     "data": {
      "text/plain": [
       "generator"
      ]
     },
     "execution_count": 50,
     "metadata": {},
     "output_type": "execute_result"
    }
   ],
   "source": [
    "dataFrameGenerator = pd.read_sql_query('SELECT * FROM Time', con=conexao, chunksize=3)\n",
    "type(dataFrameGenerator)"
   ]
  },
  {
   "cell_type": "code",
   "execution_count": 51,
   "id": "vxTCrvPcimFd",
   "metadata": {
    "id": "vxTCrvPcimFd",
    "outputId": "31e8e7bc-1dc1-4af0-9e14-5d2d89ca8f3a"
   },
   "outputs": [
    {
     "name": "stdout",
     "output_type": "stream",
     "text": [
      "----------\n",
      "Chunk 0\n",
      "        NOME ESTADO          TIPO  SALDO_GOLS\n",
      "0  Sao Paulo     SP  profissional           8\n",
      "1  Palmeiras     SP  profissional           5\n",
      "2     Santos     SP  profissional           0\n",
      "----------\n",
      "Chunk 1\n",
      "          NOME ESTADO          TIPO  SALDO_GOLS\n",
      "0  Corinthians     SP  profissional           6\n",
      "1  Paulistinha     SP        amador           1\n",
      "2        Ibate     SP        amador           0\n",
      "----------\n",
      "Chunk 2\n",
      "       NOME ESTADO          TIPO  SALDO_GOLS\n",
      "0  Cruzeiro     MG  profissional           2\n",
      "1  Atletico     MG  profissional           3\n",
      "2    Frutal     MG        amador           1\n",
      "----------\n",
      "Chunk 3\n",
      "        NOME ESTADO          TIPO  SALDO_GOLS\n",
      "0  Fortaleza     CE  profissional           2\n",
      "1  Juventude     RS  profissional           3\n"
     ]
    }
   ],
   "source": [
    "for i, dataFrameChunk in enumerate(dataFrameGenerator):\n",
    "    print('-'*10)\n",
    "    print(\"Chunk \"+str(i))\n",
    "    print(dataFrameChunk)\n"
   ]
  },
  {
   "cell_type": "markdown",
   "id": "IYP1oAKcimFd",
   "metadata": {
    "id": "IYP1oAKcimFd"
   },
   "source": [
    "* Com o processamento em chunks é possível executar processamento pedaço por pedaço do dataset."
   ]
  },
  {
   "cell_type": "code",
   "execution_count": 52,
   "id": "a5o_8iMPimFe",
   "metadata": {
    "id": "a5o_8iMPimFe"
   },
   "outputs": [],
   "source": [
    "total_de_gols = 0\n",
    "dataFrameGenerator = pd.read_sql_query('SELECT * FROM time', con=conexao, chunksize=3)"
   ]
  },
  {
   "cell_type": "code",
   "execution_count": 53,
   "id": "ZiPeDJ37imFe",
   "metadata": {
    "id": "ZiPeDJ37imFe",
    "outputId": "7683d08a-736e-4bab-bf3c-dd1a082bb7eb"
   },
   "outputs": [
    {
     "name": "stdout",
     "output_type": "stream",
     "text": [
      "Total de gols do 0-esimo chunk: 13\n",
      "Total de gols do 1-esimo chunk: 7\n",
      "Total de gols do 2-esimo chunk: 6\n",
      "Total de gols do 3-esimo chunk: 5\n",
      "Total de gols da tabela inteira: 31\n"
     ]
    }
   ],
   "source": [
    "for i, dataFrameChunk in enumerate(dataFrameGenerator):\n",
    "    total_chunk = dataFrameChunk['SALDO_GOLS'].sum()\n",
    "    print('Total de gols do ' + str(i) + '-esimo chunk: '+str(total_chunk))\n",
    "    total_de_gols += total_chunk\n",
    "print(\"Total de gols da tabela inteira: \" + str(total_de_gols))"
   ]
  },
  {
   "cell_type": "markdown",
   "id": "prSd6sF0imFe",
   "metadata": {
    "id": "prSd6sF0imFe"
   },
   "source": [
    "* ATENCAO: o processamento de agregações é muito eficiente em SGBDs relacionais. Trazer dados do database para a memória, computar, e depois totalizar só é recomendado para tarefas que não podem, ou que são muito complexas, em um SGBD. Para o exemplo da totalização, basta um simples SQL:"
   ]
  },
  {
   "cell_type": "code",
   "execution_count": 54,
   "id": "v6YVEuQSimFe",
   "metadata": {
    "id": "v6YVEuQSimFe",
    "outputId": "f4221806-f02a-4231-db23-3b8393d83a90"
   },
   "outputs": [
    {
     "name": "stdout",
     "output_type": "stream",
     "text": [
      "31\n"
     ]
    }
   ],
   "source": [
    "for row in cursorDML.execute(\"Select SUM(saldo_gols) from time\"): print(row[0])"
   ]
  },
  {
   "cell_type": "markdown",
   "id": "f8t0u7W4imFf",
   "metadata": {
    "id": "f8t0u7W4imFf"
   },
   "source": [
    "# SQLAlchemy - SQL Expression Language\n",
    "\n",
    "* O **SQLAlchemy** oferece um conjunto de ferramentas, o **SQL Expression Language**, que permitem executar SQL sem a necessidade de escrever código SQL;\n",
    "* Documentação completa em https://docs.sqlalchemy.org/en/14/genindex.html#T"
   ]
  },
  {
   "cell_type": "markdown",
   "id": "-zH4Sz5MimFf",
   "metadata": {
    "id": "-zH4Sz5MimFf"
   },
   "source": [
    "* Primeiro, cria-se um **engine** usando-se a string de conexão."
   ]
  },
  {
   "cell_type": "code",
   "execution_count": 55,
   "id": "DP5AnZe0imFf",
   "metadata": {
    "id": "DP5AnZe0imFf",
    "outputId": "0c81eba9-56f3-4a03-93de-f62f30b0397c"
   },
   "outputs": [
    {
     "data": {
      "text/plain": [
       "'(DESCRIPTION=(ADDRESS=(PROTOCOL=TCP)(HOST=grad.icmc.usp.br)(PORT=15215))(CONNECT_DATA=(SID=orcl)))'"
      ]
     },
     "execution_count": 55,
     "metadata": {},
     "output_type": "execute_result"
    }
   ],
   "source": [
    "dsnStr"
   ]
  },
  {
   "cell_type": "code",
   "execution_count": 57,
   "id": "OLiOGbleimFf",
   "metadata": {
    "id": "OLiOGbleimFf",
    "outputId": "400f5558-8602-4d82-cb0b-8d6414d50e0f"
   },
   "outputs": [
    {
     "name": "stdout",
     "output_type": "stream",
     "text": [
      "2021-07-15 02:20:56,636 INFO sqlalchemy.engine.Engine select sys_context( 'userenv', 'current_schema' ) from dual\n",
      "2021-07-15 02:20:56,638 INFO sqlalchemy.engine.Engine [raw sql] {}\n",
      "2021-07-15 02:20:56,714 INFO sqlalchemy.engine.Engine select value from nls_session_parameters where parameter = 'NLS_NUMERIC_CHARACTERS'\n",
      "2021-07-15 02:20:56,714 INFO sqlalchemy.engine.Engine [raw sql] {}\n"
     ]
    },
    {
     "data": {
      "text/plain": [
       "<sqlalchemy.engine.base.Connection at 0x7fd849be2d30>"
      ]
     },
     "execution_count": 57,
     "metadata": {},
     "output_type": "execute_result"
    }
   ],
   "source": [
    "ora_engine = sqlalchemy.create_engine(f'oracle+cx_oracle://M28804725800:M28804725800@'+dsnStr, echo=True)\n",
    "ora_engine.connect()"
   ]
  },
  {
   "cell_type": "markdown",
   "id": "SM68cWCWimFg",
   "metadata": {
    "id": "SM68cWCWimFg"
   },
   "source": [
    "* Em seguida, cria-se um **metaobjeto** com as informações da tabela onde se deseja realizar operações.\n",
    "* No exemplo a seguir, o objeto jogador guardará em memória todas as informações que descrevem o esquema da relação Jogador, assim como suas restrições de integridade. O SQLAlchemy exibe o acesso feito ao dicionário de dados."
   ]
  },
  {
   "cell_type": "code",
   "execution_count": null,
   "id": "9cKaxKc2imFg",
   "metadata": {
    "id": "9cKaxKc2imFg",
    "outputId": "c57b989b-2775-4708-fb30-f3bddbda7314"
   },
   "outputs": [],
   "source": [
    "metadata = sqlalchemy.MetaData()\n",
    "jogador = sqlalchemy.Table('jogador', metadata, autoload_with=ora_engine)"
   ]
  },
  {
   "cell_type": "code",
   "execution_count": null,
   "id": "baEJSTuMimFg",
   "metadata": {
    "id": "baEJSTuMimFg",
    "outputId": "1e6c074d-c21c-4afd-b9dc-5fa457c8f369"
   },
   "outputs": [
    {
     "name": "stdout",
     "output_type": "stream",
     "text": [
      "['jogador.rg', 'jogador.nome', 'jogador.data_nascimento', 'jogador.naturalidade', 'jogador.time_atua']\n"
     ]
    }
   ],
   "source": [
    "print(jogador.columns)"
   ]
  },
  {
   "cell_type": "code",
   "execution_count": null,
   "id": "LMYZCyNWimFg",
   "metadata": {
    "id": "LMYZCyNWimFg",
    "outputId": "f9e364b5-1956-4408-e7f0-a04d3581ce46"
   },
   "outputs": [
    {
     "name": "stdout",
     "output_type": "stream",
     "text": [
      "PrimaryKeyConstraint(Column('rg', VARCHAR(length=15), table=<jogador>, primary_key=True, nullable=False))\n",
      "\n",
      "ForeignKeyConstraint(<sqlalchemy.sql.base.ColumnCollection object at 0x7f46145eeeb8>, None, name='fk_jogador', ondelete='SET NULL', link_to_name=True, table=Table('jogador', MetaData(bind=None), Column('rg', VARCHAR(length=15), table=<jogador>, primary_key=True, nullable=False), Column('nome', VARCHAR(length=40), table=<jogador>, nullable=False), Column('data_nascimento', DATE(), table=<jogador>), Column('naturalidade', VARCHAR(length=40), table=<jogador>), Column('time_atua', VARCHAR(length=40), ForeignKey('time.nome'), table=<jogador>), schema=None))\n",
      "\n"
     ]
    }
   ],
   "source": [
    "for constr in jogador.constraints:\n",
    "    print(constr)\n",
    "    print()"
   ]
  },
  {
   "cell_type": "code",
   "execution_count": null,
   "id": "4oUQ9pLVimFh",
   "metadata": {
    "id": "4oUQ9pLVimFh",
    "outputId": "1dfecb67-d0a9-4f3c-bf3a-3f13bd9cee7b"
   },
   "outputs": [
    {
     "name": "stdout",
     "output_type": "stream",
     "text": [
      "ForeignKey('time.nome')\n",
      "\n"
     ]
    }
   ],
   "source": [
    "for constr in jogador.foreign_keys:\n",
    "    print(constr)\n",
    "    print()"
   ]
  },
  {
   "cell_type": "markdown",
   "id": "kgY3iY1uimFh",
   "metadata": {
    "id": "kgY3iY1uimFh"
   },
   "source": [
    "* A partir do meta objeto, é possível fazer requisições que montam SQL"
   ]
  },
  {
   "cell_type": "code",
   "execution_count": null,
   "id": "ay_GoYnhimFh",
   "metadata": {
    "id": "ay_GoYnhimFh"
   },
   "outputs": [],
   "source": [
    "insert_jogador = jogador.insert()"
   ]
  },
  {
   "cell_type": "code",
   "execution_count": null,
   "id": "Su4bkkG1imFh",
   "metadata": {
    "id": "Su4bkkG1imFh",
    "outputId": "be6d8252-e918-46d2-e20c-0be161e1fb15"
   },
   "outputs": [
    {
     "name": "stdout",
     "output_type": "stream",
     "text": [
      "INSERT INTO jogador (rg, nome, data_nascimento, naturalidade, time_atua) VALUES (:rg, :nome, :data_nascimento, :naturalidade, :time_atua)\n"
     ]
    }
   ],
   "source": [
    "print(insert_jogador)"
   ]
  },
  {
   "cell_type": "code",
   "execution_count": null,
   "id": "bBKtEm2RimFh",
   "metadata": {
    "id": "bBKtEm2RimFh"
   },
   "outputs": [],
   "source": [
    "update_jogador = jogador.update()"
   ]
  },
  {
   "cell_type": "code",
   "execution_count": null,
   "id": "evzqGFEZimFi",
   "metadata": {
    "id": "evzqGFEZimFi",
    "outputId": "29ca7c79-4d93-41be-873b-98f33ecb099a"
   },
   "outputs": [
    {
     "name": "stdout",
     "output_type": "stream",
     "text": [
      "UPDATE jogador SET rg=:rg, nome=:nome, data_nascimento=:data_nascimento, naturalidade=:naturalidade, time_atua=:time_atua\n"
     ]
    }
   ],
   "source": [
    "print(update_jogador)"
   ]
  },
  {
   "cell_type": "code",
   "execution_count": null,
   "id": "4KevSxKJimFi",
   "metadata": {
    "id": "4KevSxKJimFi"
   },
   "outputs": [],
   "source": [
    "delete_jogador = jogador.delete().where(jogador.c.time_atua=='Palmeiras')"
   ]
  },
  {
   "cell_type": "code",
   "execution_count": null,
   "id": "tltaK-sDimFi",
   "metadata": {
    "id": "tltaK-sDimFi",
    "outputId": "c362012f-36a2-4f09-d7b4-d9702c36e084"
   },
   "outputs": [
    {
     "data": {
      "text/plain": [
       "{'time_atua_1': 'Palmeiras'}"
      ]
     },
     "execution_count": 189,
     "metadata": {
      "tags": []
     },
     "output_type": "execute_result"
    }
   ],
   "source": [
    "delete_jogador.compile().params"
   ]
  },
  {
   "cell_type": "code",
   "execution_count": null,
   "id": "ARTuwKYRimFi",
   "metadata": {
    "id": "ARTuwKYRimFi",
    "outputId": "98962991-65ff-427b-e40c-57bebcd9a41c"
   },
   "outputs": [
    {
     "name": "stdout",
     "output_type": "stream",
     "text": [
      "2021-06-29 18:15:36,908 INFO sqlalchemy.engine.base.Engine DELETE FROM jogador WHERE jogador.time_atua = :time_atua_1\n",
      "2021-06-29 18:15:36,910 INFO sqlalchemy.engine.base.Engine {'time_atua_1': 'Palmeiras'}\n",
      "2021-06-29 18:15:36,944 INFO sqlalchemy.engine.base.Engine COMMIT\n"
     ]
    }
   ],
   "source": [
    "result = ora_engine.execute(delete_jogador)"
   ]
  },
  {
   "cell_type": "markdown",
   "id": "Bzwdn05AimFi",
   "metadata": {
    "id": "Bzwdn05AimFi"
   },
   "source": [
    "* Para fazer a inserção, é necessário fornecer os valores que serão inseridos."
   ]
  },
  {
   "cell_type": "code",
   "execution_count": null,
   "id": "gZP5jtrvimFj",
   "metadata": {
    "id": "gZP5jtrvimFj"
   },
   "outputs": [],
   "source": [
    "import datetime"
   ]
  },
  {
   "cell_type": "code",
   "execution_count": null,
   "id": "GdBWl0aNimFj",
   "metadata": {
    "id": "GdBWl0aNimFj"
   },
   "outputs": [],
   "source": [
    "insert_jogador = jogador.insert().values(rg='67891', nome='Edilson', data_nascimento=datetime.date(1980,9,20),\n",
    "                                         naturalidade='Peruano',time_atua='Palmeiras')"
   ]
  },
  {
   "cell_type": "code",
   "execution_count": null,
   "id": "4g3X4jW9imFj",
   "metadata": {
    "id": "4g3X4jW9imFj",
    "outputId": "9e64dfd5-c7fd-4fb0-a672-f61fa5c98c6d"
   },
   "outputs": [
    {
     "name": "stdout",
     "output_type": "stream",
     "text": [
      "INSERT INTO jogador (rg, nome, data_nascimento, naturalidade, time_atua) VALUES (:rg, :nome, :data_nascimento, :naturalidade, :time_atua)\n"
     ]
    }
   ],
   "source": [
    "print(insert_jogador)"
   ]
  },
  {
   "cell_type": "markdown",
   "id": "2gVcgqjRimFj",
   "metadata": {
    "id": "2gVcgqjRimFj"
   },
   "source": [
    "* Os quais são processados com o comando `compile()`."
   ]
  },
  {
   "cell_type": "code",
   "execution_count": null,
   "id": "9gued1jVimFk",
   "metadata": {
    "id": "9gued1jVimFk",
    "outputId": "89784917-090a-4cda-8171-f8ef7b71df2e"
   },
   "outputs": [
    {
     "data": {
      "text/plain": [
       "{'rg': '67891',\n",
       " 'nome': 'Edilson',\n",
       " 'data_nascimento': datetime.date(1980, 9, 20),\n",
       " 'naturalidade': 'Peruano',\n",
       " 'time_atua': 'Palmeiras'}"
      ]
     },
     "execution_count": 194,
     "metadata": {
      "tags": []
     },
     "output_type": "execute_result"
    }
   ],
   "source": [
    "insert_jogador.compile().params"
   ]
  },
  {
   "cell_type": "markdown",
   "id": "r-yPr0R1imFk",
   "metadata": {
    "id": "r-yPr0R1imFk"
   },
   "source": [
    "* E, finalmente, a execução."
   ]
  },
  {
   "cell_type": "code",
   "execution_count": null,
   "id": "YjPHAmnwimFk",
   "metadata": {
    "id": "YjPHAmnwimFk",
    "outputId": "a141a22c-84b3-4e15-c1bb-716c8d792552"
   },
   "outputs": [
    {
     "name": "stdout",
     "output_type": "stream",
     "text": [
      "2021-06-29 18:17:41,686 INFO sqlalchemy.engine.base.Engine INSERT INTO jogador (rg, nome, data_nascimento, naturalidade, time_atua) VALUES (:rg, :nome, :data_nascimento, :naturalidade, :time_atua)\n",
      "2021-06-29 18:17:41,689 INFO sqlalchemy.engine.base.Engine {'rg': '67891', 'nome': 'Edilson', 'data_nascimento': datetime.date(1980, 9, 20), 'naturalidade': 'Peruano', 'time_atua': 'Palmeiras'}\n",
      "2021-06-29 18:17:41,719 INFO sqlalchemy.engine.base.Engine COMMIT\n"
     ]
    }
   ],
   "source": [
    "result = ora_engine.execute(insert_jogador)"
   ]
  },
  {
   "cell_type": "markdown",
   "id": "EgaMOJIdimFk",
   "metadata": {
    "id": "EgaMOJIdimFk"
   },
   "source": [
    "* O resultado mostra meta informações a respeito da operação."
   ]
  },
  {
   "cell_type": "code",
   "execution_count": null,
   "id": "eEATa-TvimFk",
   "metadata": {
    "id": "eEATa-TvimFk",
    "outputId": "db62efb6-350a-4703-a1ea-661ae4b7f6dd"
   },
   "outputs": [
    {
     "data": {
      "text/plain": [
       "['67891']"
      ]
     },
     "execution_count": 196,
     "metadata": {
      "tags": []
     },
     "output_type": "execute_result"
    }
   ],
   "source": [
    "result.inserted_primary_key"
   ]
  },
  {
   "cell_type": "code",
   "execution_count": 59,
   "id": "IKFaDXh1imFl",
   "metadata": {
    "id": "IKFaDXh1imFl"
   },
   "outputs": [
    {
     "ename": "InterfaceError",
     "evalue": "not connected",
     "output_type": "error",
     "traceback": [
      "\u001b[0;31m---------------------------------------------------------------------------\u001b[0m",
      "\u001b[0;31mInterfaceError\u001b[0m                            Traceback (most recent call last)",
      "\u001b[0;32m<ipython-input-59-4dbe4c658c5b>\u001b[0m in \u001b[0;36m<module>\u001b[0;34m\u001b[0m\n\u001b[0;32m----> 1\u001b[0;31m \u001b[0mconexao\u001b[0m\u001b[0;34m.\u001b[0m\u001b[0mcommit\u001b[0m\u001b[0;34m(\u001b[0m\u001b[0;34m)\u001b[0m\u001b[0;34m\u001b[0m\u001b[0;34m\u001b[0m\u001b[0m\n\u001b[0m",
      "\u001b[0;31mInterfaceError\u001b[0m: not connected"
     ]
    }
   ],
   "source": [
    "conexao.commit()"
   ]
  },
  {
   "cell_type": "code",
   "execution_count": 58,
   "id": "5qTj_QPSimFl",
   "metadata": {
    "id": "5qTj_QPSimFl"
   },
   "outputs": [],
   "source": [
    "conexao.close()"
   ]
  },
  {
   "cell_type": "code",
   "execution_count": null,
   "id": "3jDoe939imFl",
   "metadata": {
    "id": "3jDoe939imFl"
   },
   "outputs": [],
   "source": []
  }
 ],
 "metadata": {
  "colab": {
   "name": "Curso01-Aula07.ipynb",
   "provenance": []
  },
  "kernelspec": {
   "display_name": "Python 3",
   "language": "python",
   "name": "python3"
  },
  "language_info": {
   "codemirror_mode": {
    "name": "ipython",
    "version": 3
   },
   "file_extension": ".py",
   "mimetype": "text/x-python",
   "name": "python",
   "nbconvert_exporter": "python",
   "pygments_lexer": "ipython3",
   "version": "3.8.0"
  }
 },
 "nbformat": 4,
 "nbformat_minor": 5
}
