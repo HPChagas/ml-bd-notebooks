{
 "cells": [
  {
   "cell_type": "code",
   "execution_count": 8,
   "id": "assumed-profile",
   "metadata": {},
   "outputs": [],
   "source": [
    "import tensorflow as tf\n",
    "from tensorflow import keras\n",
    "from tensorflow.keras import layers, optimizers, datasets\n",
    "from matplotlib import pyplot as plt\n",
    "import numpy as np\n",
    "model=keras.Sequential() #Create a network sequence."
   ]
  },
  {
   "cell_type": "code",
   "execution_count": 9,
   "id": "suffering-concept",
   "metadata": {},
   "outputs": [],
   "source": [
    "#Carrega o dataset\n",
    "(x_train_raw, y_train_raw), (x_test_raw, y_test_raw) = datasets.mnist.load_data()\n",
    "\n",
    "#Convert a 28 x 28 image into a 784 x 1 vector para poder fazer a multiplicação vetoria linha a linha os dados de treino e teste\n",
    "x_train = x_train_raw.reshape(60000, 784)\n",
    "x_test = x_test_raw.reshape(10000, 784)\n",
    "\n",
    "#Convert the labels into one-hot codes\n",
    "#(criando os y = labels de classificação )\n",
    "num_classes = 10\n",
    "y_train = keras.utils.to_categorical(y_train_raw, num_classes)\n",
    "y_test = keras.utils.to_categorical(y_test_raw, num_classes)"
   ]
  },
  {
   "cell_type": "code",
   "execution_count": 10,
   "id": "proprietary-exposure",
   "metadata": {},
   "outputs": [],
   "source": [
    "#uma CNN possui 3 camadas:\n",
    "#convolucional\n",
    "#pooling\n",
    "#fullyconnected \n",
    "# -> classification\n",
    "#nesse moleo estudado foram criadas 2 camadas de pooling 2 duas camadas de fully connected\n",
    "\n",
    "\n",
    "#Add the first convolutional layer and pooling layer\n",
    "#usando o keras, cria o mprimeiro layer do modelo convolucional\n",
    "#rectified linear activation function or ReLU = função de ativação\n",
    "model.add(keras.layers.Conv2D(filters=32,kernel_size = 5,strides = (1,1),\n",
    "padding = 'same',activation = tf.nn.relu,input_shape = (28,28,1)))\n",
    "#pooling layer\n",
    "model.add(keras.layers.MaxPool2D(pool_size=(2,2), strides = (2,2), padding = 'valid'))"
   ]
  },
  {
   "cell_type": "code",
   "execution_count": 11,
   "id": "miniature-quebec",
   "metadata": {},
   "outputs": [],
   "source": [
    "##Add the second convolutional layer and pooling layer.\n",
    "model.add(keras.layers.Conv2D(filters=64,kernel_size = 3,strides = (1,1),padding = 'same',activation = tf.nn.relu))\n",
    "model.add(keras.layers.MaxPool2D(pool_size=(2,2), strides = (2,2), padding = 'valid'))"
   ]
  },
  {
   "cell_type": "code",
   "execution_count": 12,
   "id": "empirical-resource",
   "metadata": {},
   "outputs": [],
   "source": [
    "##Add a dropout layer to reduce overfitting \n",
    "model.add(keras.layers.Dropout(0.25))\n",
    "model.add(keras.layers.Flatten())"
   ]
  },
  {
   "cell_type": "code",
   "execution_count": 13,
   "id": "written-album",
   "metadata": {},
   "outputs": [],
   "source": [
    "##Add two fully connected layers\n",
    "model.add(keras.layers.Dense(units=128,activation = tf.nn.relu))\n",
    "model.add(keras.layers.Dropout(0.5))\n",
    "model.add(keras.layers.Dense(units=10,activation = tf.nn.softmax))"
   ]
  },
  {
   "cell_type": "code",
   "execution_count": 15,
   "id": "naked-thunder",
   "metadata": {},
   "outputs": [],
   "source": [
    "#Expand data dimensions to adapt to the CNN model\n",
    "X_train=x_train.reshape(60000,28,28,1)\n",
    "X_test=x_test.reshape(10000,28,28,1)"
   ]
  },
  {
   "cell_type": "code",
   "execution_count": 18,
   "id": "cross-doubt",
   "metadata": {
    "scrolled": true
   },
   "outputs": [
    {
     "name": "stdout",
     "output_type": "stream",
     "text": [
      "Model: \"sequential_1\"\n",
      "_________________________________________________________________\n",
      "Layer (type)                 Output Shape              Param #   \n",
      "=================================================================\n",
      "conv2d_4 (Conv2D)            (None, 28, 28, 32)        832       \n",
      "_________________________________________________________________\n",
      "max_pooling2d_2 (MaxPooling2 (None, 14, 14, 32)        0         \n",
      "_________________________________________________________________\n",
      "conv2d_5 (Conv2D)            (None, 14, 14, 64)        18496     \n",
      "_________________________________________________________________\n",
      "max_pooling2d_3 (MaxPooling2 (None, 7, 7, 64)          0         \n",
      "_________________________________________________________________\n",
      "dropout_1 (Dropout)          (None, 7, 7, 64)          0         \n",
      "_________________________________________________________________\n",
      "flatten_1 (Flatten)          (None, 3136)              0         \n",
      "_________________________________________________________________\n",
      "dense (Dense)                (None, 128)               401536    \n",
      "_________________________________________________________________\n",
      "dropout_2 (Dropout)          (None, 128)               0         \n",
      "_________________________________________________________________\n",
      "dense_1 (Dense)              (None, 10)                1290      \n",
      "=================================================================\n",
      "Total params: 422,154\n",
      "Trainable params: 422,154\n",
      "Non-trainable params: 0\n",
      "_________________________________________________________________\n"
     ]
    }
   ],
   "source": [
    "#sumario do shape de cada camada e número de parâmetros que o próprio modelo atualiza durante o aprendizado.\n",
    "model.summary()"
   ]
  },
  {
   "cell_type": "code",
   "execution_count": 19,
   "id": "designing-enclosure",
   "metadata": {},
   "outputs": [
    {
     "name": "stdout",
     "output_type": "stream",
     "text": [
      "Epoch 1/5\n",
      "469/469 [==============================] - 24s 51ms/step - loss: 0.1803 - accuracy: 0.9484\n",
      "Epoch 2/5\n",
      "469/469 [==============================] - 24s 51ms/step - loss: 0.1127 - accuracy: 0.9681\n",
      "Epoch 3/5\n",
      "469/469 [==============================] - 23s 50ms/step - loss: 0.0888 - accuracy: 0.9753\n",
      "Epoch 4/5\n",
      "469/469 [==============================] - 23s 49ms/step - loss: 0.0765 - accuracy: 0.9776\n",
      "Epoch 5/5\n",
      "469/469 [==============================] - 24s 52ms/step - loss: 0.0670 - accuracy: 0.9805\n"
     ]
    },
    {
     "data": {
      "text/plain": [
       "<tensorflow.python.keras.callbacks.History at 0x7f374af5df10>"
      ]
     },
     "execution_count": 19,
     "metadata": {},
     "output_type": "execute_result"
    }
   ],
   "source": [
    "#faz o treinamento do modelo com 5 épocas \n",
    "\n",
    "model.compile(optimizer=\"adam\",loss=\"categorical_crossentropy\",metrics=['accuracy'])\n",
    "model.fit(x=X_train,y=y_train,epochs=5,batch_size=128)"
   ]
  },
  {
   "cell_type": "code",
   "execution_count": 20,
   "id": "wireless-difficulty",
   "metadata": {},
   "outputs": [
    {
     "name": "stdout",
     "output_type": "stream",
     "text": [
      "313/313 [==============================] - 1s 3ms/step - loss: 0.0309 - accuracy: 0.9911\n",
      "Test Accuracy 0.99\n"
     ]
    }
   ],
   "source": [
    "#acima é mostrado a acuracidade do modelo após cada iteração de treinamento (época)\n",
    "#abaixo chama-se o método evaluete que utilizará o conjunto de teste - que possui os labels - para determinar a acuracidade\n",
    "\n",
    "test_loss,test_acc=model.evaluate(x=X_test,y=y_test)\n",
    "print(\"Test Accuracy %.2f\"%test_acc)"
   ]
  },
  {
   "cell_type": "code",
   "execution_count": 22,
   "id": "surprised-breeding",
   "metadata": {},
   "outputs": [],
   "source": [
    "#para evitar rodar todo o modelo em seu treinametno e teste é possível guardar o modelo em um arquivo .h5 (rede neural)\n",
    "# load_model('<model-name>.h5')\n",
    "model.save('./model/final_CNN_model.h5')"
   ]
  },
  {
   "cell_type": "code",
   "execution_count": null,
   "id": "educational-baseball",
   "metadata": {},
   "outputs": [],
   "source": []
  }
 ],
 "metadata": {
  "kernelspec": {
   "display_name": "Python 3",
   "language": "python",
   "name": "python3"
  },
  "language_info": {
   "codemirror_mode": {
    "name": "ipython",
    "version": 3
   },
   "file_extension": ".py",
   "mimetype": "text/x-python",
   "name": "python",
   "nbconvert_exporter": "python",
   "pygments_lexer": "ipython3",
   "version": "3.8.0"
  }
 },
 "nbformat": 4,
 "nbformat_minor": 5
}
